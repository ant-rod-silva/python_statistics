{
 "cells": [
  {
   "cell_type": "markdown",
   "id": "f214366a",
   "metadata": {},
   "source": [
    "# Medidas de dispersão"
   ]
  },
  {
   "cell_type": "markdown",
   "id": "20b88592",
   "metadata": {},
   "source": [
    "As medidas de dispersão, também conhecidas como medidas de variabilidade, são utilizadas para quantificar o grau de dispersão dos dados em um conjunto de observações. Elas fornecem informações sobre o quão distantes ou próximos os valores estão em relação à medida central, como a média."
   ]
  },
  {
   "cell_type": "markdown",
   "id": "db32ba06",
   "metadata": {},
   "source": [
    "Existem várias medidas de dispersão comumente utilizadas. Algumas delas são:\n",
    "\n",
    "**Coeficiente de variação:** É o desvio padrão dividido pela média, multiplicado por 100 para expressar o resultado em porcentagem. Essa medida é útil para comparar a variabilidade relativa entre diferentes conjuntos de dados com médias diferentes.\n",
    "\n",
    "**Quartis e intervalo interquartil:** Os quartis dividem um conjunto de dados ordenado em quatro partes iguais. O primeiro quartil (Q1) representa o valor abaixo do qual está 25% dos dados; o segundo quartil (Q2) é a mediana, representando o valor abaixo do qual está 50% dos dados; e o terceiro quartil (Q3) é o valor abaixo do qual está 75% dos dados. O intervalo interquartil é a diferença entre o terceiro e o primeiro quartil, e representa a dispersão dos dados em torno da mediana."
   ]
  },
  {
   "cell_type": "markdown",
   "id": "42fc4af4",
   "metadata": {},
   "source": [
    "No mundo real um estatístico nunca calcularia manualmente. Os cálculos envolvidos são um pouco complexos, e o risco de cometer um erro é grande. Além disso, calcular à mão é lento. Muito lento. É por isso que os estatísticos usam planilhas e programas de computador para fazer os cálculos."
   ]
  },
  {
   "cell_type": "markdown",
   "id": "90fab79b",
   "metadata": {},
   "source": [
    "## Amplitude"
   ]
  },
  {
   "cell_type": "markdown",
   "id": "8123e3be",
   "metadata": {},
   "source": [
    "**Amplitude:** É a diferença entre o maior e o menor valor em um conjunto de dados. Embora seja fácil de calcular, a amplitude é sensível a valores extremos e não fornece muita informação sobre a distribuição dos dados.\n"
   ]
  },
  {
   "cell_type": "markdown",
   "id": "f7507e80",
   "metadata": {},
   "source": [
    "### exemplo"
   ]
  },
  {
   "cell_type": "markdown",
   "id": "a7e05202",
   "metadata": {},
   "source": [
    "Ao final do ano letivo, os estudantes Joana e Marcos tiveram a mesma média final em matemática, 7. Em cada uma das quatro unidades as notas desses estudantes foram:\n",
    "\n",
    "- Joana: 8,0; 7,0; 7,0 e 6,0.\n",
    "- Marcos: 4,0; 5,0; 9,0 e 10,0."
   ]
  },
  {
   "cell_type": "code",
   "execution_count": 25,
   "id": "57011e66",
   "metadata": {},
   "outputs": [
    {
     "name": "stdout",
     "output_type": "stream",
     "text": [
      "Amplitude das notas de Joana: 2.0\n",
      "Amplitude das notas de Marcos: 6.0\n"
     ]
    }
   ],
   "source": [
    "import pandas as pd\n",
    "\n",
    "# Criando o DataFrame com as notas dos alunos\n",
    "data = {'Joana': [8.0, 7.0, 7.0, 6.0], 'Marcos': [4.0, 5.0, 9.0, 10.0]}\n",
    "df = pd.DataFrame(data)\n",
    "\n",
    "# Calculando a amplitude das notas  (maior nota - menor nota) \n",
    "amplitude_joana = df['Joana'].max() - df['Joana'].min()\n",
    "amplitude_marcos = df['Marcos'].max() - df['Marcos'].min()\n",
    "\n",
    "print(\"Amplitude das notas de Joana:\", amplitude_joana)\n",
    "print(\"Amplitude das notas de Marcos:\", amplitude_marcos)"
   ]
  },
  {
   "cell_type": "markdown",
   "id": "af74ceda",
   "metadata": {},
   "source": [
    "Somente com essa medida não é possível saber qual dos dois estudantes teve obteve o melhor desempenho anual. \n",
    "\n",
    "Mas a partir dela, podemos notar que a variação das notas de Joana é menor do que a de Marcos."
   ]
  },
  {
   "cell_type": "markdown",
   "id": "40797e4b",
   "metadata": {},
   "source": [
    "**Observação importante:** uma infeliz propriedade da amplitude é o seu aumento conforme o aumento da amostra. \n",
    "    \n",
    "Por exemplo, a amplitude dos pesos de uma amostra de 10 estudantes é menor do que a de 100 estudantes."
   ]
  },
  {
   "cell_type": "code",
   "execution_count": 55,
   "id": "532b6065",
   "metadata": {},
   "outputs": [
    {
     "name": "stdout",
     "output_type": "stream",
     "text": [
      "Amostra de 10 estudantes:\n",
      "Amplitude dos pesos: 36.70 kg\n",
      "------------------------\n",
      "Amostra de 100 estudantes:\n",
      "Amplitude dos pesos: 39.24 kg\n",
      "------------------------\n",
      "Amostra de 1000 estudantes:\n",
      "Amplitude dos pesos: 39.84 kg\n",
      "------------------------\n",
      "Amostra de 10000 estudantes:\n",
      "Amplitude dos pesos: 40.00 kg\n",
      "------------------------\n"
     ]
    }
   ],
   "source": [
    "import random\n",
    "\n",
    "# Definindo o intervalo dos pesos (assumindo pesos em kg)\n",
    "min_peso = 60\n",
    "max_peso = 100\n",
    "\n",
    "# Tamanhos de amostra\n",
    "tamanhos_amostra = [10, 100, 1000, 10000]\n",
    "\n",
    "for tamanho_amostra in tamanhos_amostra:\n",
    "    # Gerando amostra de pesos aleatórios uniformemente distribuídos\n",
    "    pesos_amostra = [random.uniform(min_peso, max_peso) for _ in range(tamanho_amostra)]\n",
    "    \n",
    "    # Calculando a amplitude (diferença entre o maior e o menor peso)\n",
    "    amplitude = max(pesos_amostra) - min(pesos_amostra)\n",
    "    \n",
    "    print(f\"Amostra de {tamanho_amostra} estudantes:\")\n",
    "    print(f\"Amplitude dos pesos: {amplitude:.2f} kg\")\n",
    "    print(\"------------------------\")\n"
   ]
  },
  {
   "cell_type": "markdown",
   "id": "6f23b168",
   "metadata": {},
   "source": [
    "## Variância e desvio padrão"
   ]
  },
  {
   "cell_type": "markdown",
   "id": "aec99474",
   "metadata": {},
   "source": [
    "### Variância\n",
    "\n",
    "É uma medida da dispersão em torno da média. Mostra o quão distante cada valor desse conjunto está do valor central (médio). Quanto menor é a variância, mais próximos os valores estão da média; mas quanto maior ela é, mais os valores estão distantes da média.\n",
    "\n",
    "Variancia populacional = Σ((Xi - X̄)²) / n\n",
    "\n",
    "Onde:\n",
    "\n",
    "- Σ indica a soma dos valores;\n",
    "- Xi representa cada valor individual no conjunto de dados;\n",
    "- X̄ é a média dos valores do conjunto de dados;\n",
    "- n é o número total de valores no conjunto de dados.\n",
    "\n",
    "Em palavras, para calcular a variância populacional (de todos os valores de um conjunto de dados), você subtrai cada valor da média, eleva o resultado ao quadrado, soma todos esses valores quadrados e divide pelo número total de valores."
   ]
  },
  {
   "cell_type": "markdown",
   "id": "9490f56e",
   "metadata": {},
   "source": [
    "### Desvio padrão (σ)\n",
    "\n",
    "É calculado a partir da variância, pois é a raiz quadrada desse parâmetro. Ele indica o quanto, em média, cada valor difere da média. Quanto menor for o desvio padrão, mais os pontos de dados estão próximos da média ou de um valor esperado. Porém, se esse valor for alto, significa que os dados estão espalhados.\n",
    "\n",
    "$$\\text{Desvio Padrão = }\\sqrt{\\frac{\\sum_{i=1}^{n}(X_i - \\bar{X})^2}{n}}$$\n",
    "\n",
    "\n",
    "Onde:\n",
    "\n",
    "- **$\\sum$** indica a soma dos valores;\n",
    "- **$X_i$** representa cada valor individual no conjunto de dados;\n",
    "- **$\\bar{X}$** é a média dos valores do conjunto de dados;\n",
    "- **$\\text{n}$** é o número total de valores no conjunto de dados.\n",
    "\n",
    "**Algoritmo:**\n",
    "\n",
    "- **Etapa 1:** calcular a média ($\\bar{X}$).\n",
    "- **Etapa 2:** calcular o quadrado da distância entre cada ponto e a média $(X_i - \\bar{X})^2$.\n",
    "- **Etapa 3:** somar os valores da Etapa 2 $\\sum_{i=1}^{n}(X_i - \\bar{X})^2$.\n",
    "- **Etapa 4:** dividir pelo número de pontos $\\frac{\\sum_{i=1}^{n}(X_i - \\bar{X})^2}{n}$.\n",
    "- **Etapa 5:** calcular a raiz quadrada $\\sqrt{\\frac{\\sum_{i=1}^{n}(X_i - \\bar{X})^2}{n}}$.\n",
    "\n",
    "**Observação importante:**\n",
    "\n",
    " Somente as curvas normais o possuem, uma vez que, por definição, \"desvio-padrão é o ponto de inflexão da curva normal\" — e de mais nenhuma outra. A curva normal é definida por dois parâmetros: a média e o desvio padrão.\n",
    " \n",
    "A fórmula acima serve para calcular o desvio padrão de uma população. Se nós estivermos lidando com uma amostra, nós usaremos uma fórmula ligeiramente diferente (abaixo), que usa n-1 ao invés de N."
   ]
  },
  {
   "cell_type": "markdown",
   "id": "10246bcc",
   "metadata": {},
   "source": [
    "-----------------------------"
   ]
  },
  {
   "cell_type": "markdown",
   "id": "9f0788a4",
   "metadata": {},
   "source": [
    "#### Criar um exemplo de conjunto de dados com curva normal\n",
    "\n",
    "Se a média da estatura dos brasileiros é 170cm, sabemos que existe 50% de chance de que um indivíduo amostrado aleatoriamente seja mais alto ou mais baixo do que 170cm"
   ]
  },
  {
   "cell_type": "code",
   "execution_count": 45,
   "id": "e5e7b30c",
   "metadata": {},
   "outputs": [],
   "source": [
    "import numpy as np\n",
    "import matplotlib.pyplot as plt\n",
    "\n",
    "# Definir a média da estatura dos brasileiros (em cm)\n",
    "media = 170\n",
    "\n",
    "# Definir o desvio padrão (vamos usar 7cm como exemplo)\n",
    "# o que significa que a maioria dos valores estará dentro de aproximadamente 7cm da média (170cm)\n",
    "desvio_padrao = 7\n",
    "\n",
    "# Gerar o conjunto aleatório seguindo uma distribuição normal\n",
    "tamanho_da_amostra = 200\n",
    "conjunto_numerico = np.random.normal(loc=media, scale=desvio_padrao, size=tamanho_da_amostra)\n",
    "\n",
    "# Arredondar os valores do conjunto para duas casas decimais\n",
    "conjunto_numerico_arredondado = np.round(conjunto_numerico, 2)\n",
    "\n",
    "# Imprimir o conjunto gerado com duas casas decimais\n",
    "# print(conjunto_numerico_arredondado)"
   ]
  },
  {
   "cell_type": "markdown",
   "id": "3728b25d",
   "metadata": {},
   "source": [
    "#### Criar um histograma"
   ]
  },
  {
   "cell_type": "code",
   "execution_count": 46,
   "id": "a124c899",
   "metadata": {},
   "outputs": [
    {
     "data": {
      "image/png": "[encoded data removed]",
      "text/plain": [
       "<Figure size 640x480 with 1 Axes>"
      ]
     },
     "metadata": {},
     "output_type": "display_data"
    }
   ],
   "source": [
    "data = conjunto_numerico_arredondado\n",
    "\n",
    "plt.hist(data, bins=10, edgecolor='black')\n",
    "plt.xlabel('Valores')\n",
    "plt.ylabel('Frequência')\n",
    "plt.title('Histograma da série [6,2,3,1]')\n",
    "\n",
    "# Calcula a média dos dados\n",
    "media = sum(data) / len(data)\n",
    "\n",
    "# Define os limites do eixo x (intervalo dos números no eixo x)\n",
    "limite_inferior = min(data) - 5\n",
    "limite_superior = max(data) + 5\n",
    "\n",
    "# Arredonda os limites para tornar a visualização mais clara\n",
    "limite_inferior = round(limite_inferior, -1)\n",
    "limite_superior = round(limite_superior, -1)\n",
    "\n",
    "# Traça a linha vertical da média no gráfico\n",
    "plt.axvline(x=media, color='red', linestyle='dashed', linewidth=2, label=f'Média: {media:.2f}')\n",
    "\n",
    "# Adiciona o valor da média como um texto no gráfico\n",
    "#plt.text(media, plt.ylim()[1]*0.9, f'Média: {media:.2f}', color='red', fontsize=12, ha='center')\n",
    "\n",
    "# Define a legenda\n",
    "plt.legend()\n",
    "\n",
    "# Define os limites do eixo x\n",
    "plt.xlim(limite_inferior, limite_superior)\n",
    "\n",
    "plt.show()"
   ]
  },
  {
   "cell_type": "markdown",
   "id": "5b28b9c4",
   "metadata": {},
   "source": [
    "Pode-se notar que se trata de uma distribuição normal. \n",
    "\n",
    "Uma distribuição normal geralmente possui uma forma de sino, e os dados fornecidos apresentam essa característica. \n",
    "\n",
    "Em um histograma, vê-se uma tendência dos dados em torno da média, com menos valores nos extremos."
   ]
  },
  {
   "cell_type": "code",
   "execution_count": 47,
   "id": "e15fe5df",
   "metadata": {},
   "outputs": [
    {
     "name": "stdout",
     "output_type": "stream",
     "text": [
      "Desvio padrão: 6.8907505380401055\n",
      "Média: 170.51515000000006\n"
     ]
    }
   ],
   "source": [
    "import numpy as np\n",
    "\n",
    "# Calcular o desvio padrão amostral\n",
    "desvio_padrao = np.std(data)\n",
    "\n",
    "# Imprimir o resultado\n",
    "print(\"Desvio padrão:\", desvio_padrao)\n",
    "print(\"Média:\", media)"
   ]
  },
  {
   "cell_type": "markdown",
   "id": "4a2200d6",
   "metadata": {},
   "source": [
    "-----------------------------"
   ]
  },
  {
   "cell_type": "markdown",
   "id": "34433c28",
   "metadata": {},
   "source": [
    "#### Exemplo de cálculo manual:"
   ]
  },
  {
   "cell_type": "markdown",
   "id": "cd21eca9",
   "metadata": {},
   "source": [
    "6,6,2,3,1"
   ]
  },
  {
   "cell_type": "markdown",
   "id": "744fcf01",
   "metadata": {},
   "source": [
    "- **Etapa 1:**\n",
    "\n",
    "$\\frac{6+6+2+3+1}{5} = 3.6$\n",
    "\n",
    "- **Etapa 2:**\n",
    "\n",
    "| n  |  diferença     | quadrado |\n",
    "|:---|:---------------|----------|\n",
    "| 6  | 6 - 3.6 = 2.4  | 5.76     |\n",
    "| 6  | 6 - 3.6 = 2.4  | 5.76     |\n",
    "| 2  | 2 - 3.6 = -1.6 | 2.56     |\n",
    "| 3  | 3 - 3.6 = -0.6 | 0.36     |\n",
    "| 1  | 1 - 3.6 = -2.6 | 6.76     |\n",
    "\n",
    "- **Etapa 3:**\n",
    "\n",
    "5.76 + 5.76 + 2.56 + 0.36 + 6.76 = 21.2\n",
    "\n",
    "- **Etapa 4:**\n",
    "\n",
    "$\\frac{21.2}{5}$ = 4.24\n",
    "\n",
    "- **Etapa 5:**\n",
    "\n",
    "$\\sqrt{4.24} = 2.05$"
   ]
  },
  {
   "cell_type": "markdown",
   "id": "9d804649",
   "metadata": {},
   "source": [
    "#### Histograma"
   ]
  },
  {
   "cell_type": "code",
   "execution_count": 51,
   "id": "91ca6326",
   "metadata": {},
   "outputs": [
    {
     "data": {
      "image/png": "[encoded data removed]",
      "text/plain": [
       "<Figure size 640x480 with 1 Axes>"
      ]
     },
     "metadata": {},
     "output_type": "display_data"
    },
    {
     "name": "stdout",
     "output_type": "stream",
     "text": [
      "Desvio padrão: 2.0591260281974\n",
      "Média: 3.6\n"
     ]
    }
   ],
   "source": [
    "import matplotlib.pyplot as plt\n",
    "\n",
    "data = [6,6,2,3,1]\n",
    "\n",
    "plt.hist(data, bins=10, edgecolor='black')\n",
    "plt.xlabel('Valores')\n",
    "plt.ylabel('Frequência')\n",
    "plt.title('Histograma da série [6,6,2,3,1]')\n",
    "\n",
    "# Calcula a média dos dados\n",
    "media = sum(data) / len(data)\n",
    "\n",
    "# Define os limites do eixo x (intervalo dos números no eixo x)\n",
    "limite_inferior = min(data) - 5\n",
    "limite_superior = max(data) + 5\n",
    "\n",
    "# Arredonda os limites para tornar a visualização mais clara\n",
    "limite_inferior = round(limite_inferior, -1)\n",
    "limite_superior = round(limite_superior, -1)\n",
    "\n",
    "# Traça a linha vertical da média no gráfico\n",
    "plt.axvline(x=media, color='red', linestyle='dashed', linewidth=2, label=f'Média: {media:.2f}')\n",
    "\n",
    "# Adiciona o valor da média como um texto no gráfico\n",
    "#plt.text(media, plt.ylim()[1]*0.9, f'Média: {media:.2f}', color='red', fontsize=12, ha='center')\n",
    "\n",
    "# Define a legenda\n",
    "plt.legend()\n",
    "\n",
    "# Define os limites do eixo x\n",
    "plt.xlim(limite_inferior, limite_superior)\n",
    "\n",
    "plt.show()\n",
    "\n",
    "# Calcular o desvio padrão amostral\n",
    "desvio_padrao = np.std(data)\n",
    "\n",
    "# Imprimir o resultado\n",
    "print(\"Desvio padrão:\", desvio_padrao)\n",
    "print(\"Média:\", media)"
   ]
  },
  {
   "cell_type": "markdown",
   "id": "ed81b096",
   "metadata": {},
   "source": [
    "Ao executar esse código, você deve obter um gráfico de histograma que representa visualmente a distribuição dos valores na série de dados.\n",
    "\n",
    "Podemos notar que não se trata de uma distribuição normal. Uma distribuição normal geralmente possui uma forma de sino, e os dados fornecidos não apresentam essa característica. Em um histograma, veríamos uma tendência dos dados em torno da média, com menos valores nos extremos.\n",
    "\n",
    "Portanto, a série de dados fornecida não produz uma curva normal."
   ]
  },
  {
   "cell_type": "markdown",
   "id": "dd17732e",
   "metadata": {},
   "source": [
    "## Coeficiente de variação"
   ]
  },
  {
   "cell_type": "markdown",
   "id": "7de7ad58",
   "metadata": {},
   "source": [
    "O CV é calculado dividindo o desvio padrão dos dados pela média dos dados e multiplicando o resultado por 100 para expressá-lo em termos de porcentagem. A fórmula para o coeficiente de variação é a seguinte:\n",
    "\n",
    "CV = (desvio padrão / média) * 100\n",
    "\n",
    "adimensional, isto é, um número puro, que será positivo se a média for positiva; será zero quando não houver variabilidade entre os dados.\n",
    "\n",
    "usualmente expresso em porcentagem."
   ]
  },
  {
   "cell_type": "markdown",
   "id": "e8bec6a6",
   "metadata": {},
   "source": [
    "### Exemplo"
   ]
  },
  {
   "cell_type": "markdown",
   "id": "7db07cc5",
   "metadata": {},
   "source": [
    "Utilizaremos como exemplo a figura abaixo, que apresenta a altura de quatro construções (em metros), para calcular o desvio padrão e a variância."
   ]
  },
  {
   "cell_type": "markdown",
   "id": "d3f83dc4",
   "metadata": {},
   "source": [
    "<img src=\"https://static.todamateria.com.br/upload/ex/em/exemplovarianciaedesviopadrao1-cke.jpg\" />"
   ]
  },
  {
   "cell_type": "markdown",
   "id": "777813cc",
   "metadata": {},
   "source": [
    "| Predio  | Altura   |\n",
    "|---------|----------|\n",
    "| P1      | 460 m    |\n",
    "| P2      | 800 m    |\n",
    "| P3      | 300 m    |\n",
    "| P4      | 400 m    |"
   ]
  },
  {
   "cell_type": "markdown",
   "id": "7b4c7cd8",
   "metadata": {},
   "source": [
    "Antes de calcular a variância, é necessário verificar a média aritmética (x) da quantidade de alunos acima da média em cada turma:"
   ]
  },
  {
   "cell_type": "code",
   "execution_count": 27,
   "id": "db70f10c",
   "metadata": {},
   "outputs": [
    {
     "name": "stdout",
     "output_type": "stream",
     "text": [
      "Média: 490.0\n",
      "Variância Populacional: 35300.00\n",
      "Desvio padrão: 187.88\n",
      "Coeficiente de variação: 38.34%\n",
      "Média: 490.0\n",
      "Variância Populacional: 35300.00\n",
      "Desvio padrão: 187.88\n",
      "Coeficiente de variação: 38.34%\n"
     ]
    }
   ],
   "source": [
    "import pandas as pd\n",
    "import math\n",
    "\n",
    "def calcular_variancia_populacional(media, dados):\n",
    "    if isinstance(dados, list):\n",
    "        soma_diferencas_quadrado = sum((x - media) ** 2 for x in dados)\n",
    "        variancia_populacional = soma_diferencas_quadrado / len(dados)\n",
    "    elif isinstance(dados, pd.Series):\n",
    "        soma_diferencas_quadrado = sum((x - media) ** 2 for x in dados)\n",
    "        variancia_populacional = soma_diferencas_quadrado / len(dados)\n",
    "    else:\n",
    "        raise TypeError(\"O parâmetro 'dados' deve ser uma lista ou uma série do pandas.\")\n",
    "\n",
    "    return variancia_populacional\n",
    "\n",
    "def calcular_desvio_padrao(media, dados):\n",
    "    variancia = calcular_variancia_populacional(media, dados)\n",
    "    desvio_padrao = math.sqrt(variancia)\n",
    "    return desvio_padrao\n",
    "\n",
    "def calcular_coeficiente_variacao(media, desvio_padrao):\n",
    "    coeficiente_variacao = (desvio_padrao / media) * 100\n",
    "    return coeficiente_variacao\n",
    "\n",
    "# usando dataframe\n",
    "dados = {'Predio': ['P1', 'P2', 'P3', 'P4'],\n",
    "         'Altura': [460, 800, 300, 400]}\n",
    "df = pd.DataFrame(dados)\n",
    "\n",
    "media = df['Altura'].mean()\n",
    "variancia_populacional = calcular_variancia_populacional(media, df['Altura'])\n",
    "desvio_padrao = calcular_desvio_padrao(media, df['Altura'])\n",
    "coeficiente_variacao = calcular_coeficiente_variacao(media, desvio_padrao)\n",
    "\n",
    "print(f\"Média: {media}\")\n",
    "print(f\"Variância Populacional: {variancia_populacional:.2f}\")\n",
    "print(f\"Desvio padrão: {desvio_padrao:.2f}\")\n",
    "print(f\"Coeficiente de variação: {coeficiente_variacao:.2f}%\")\n",
    "\n",
    "# usando lista\n",
    "\n",
    "dados = [460, 800, 300, 400]\n",
    "media = sum(dados) / len(dados)\n",
    "\n",
    "variancia_populacional = calcular_variancia_populacional(media, dados)\n",
    "desvio_padrao = calcular_desvio_padrao(media, dados)\n",
    "coeficiente_variacao = calcular_coeficiente_variacao(media, desvio_padrao)\n",
    "\n",
    "print(f\"Média: {media}\")\n",
    "print(f\"Variância Populacional: {variancia_populacional:.2f}\")\n",
    "print(f\"Desvio padrão: {desvio_padrao:.2f}\")\n",
    "print(f\"Coeficiente de variação: {coeficiente_variacao:.2f}%\")"
   ]
  },
  {
   "cell_type": "markdown",
   "id": "fb69e437",
   "metadata": {},
   "source": [
    "### média"
   ]
  },
  {
   "cell_type": "markdown",
   "id": "c37fd558",
   "metadata": {},
   "source": [
    "<img src=\"https://static.todamateria.com.br/upload/ex/em/exemplovarianciaedesviopadrao2-0-cke.jpg\" />"
   ]
  },
  {
   "cell_type": "markdown",
   "id": "11a00847",
   "metadata": {},
   "source": [
    "### desvio padrão"
   ]
  },
  {
   "cell_type": "markdown",
   "id": "823e2ac1",
   "metadata": {},
   "source": [
    "<img src=\"https://static.todamateria.com.br/upload/ex/em/exemplovarianciaedesviopadrao3-0-cke.jpg\" />"
   ]
  },
  {
   "cell_type": "markdown",
   "id": "cec6ba55",
   "metadata": {},
   "source": [
    "## Teste Z (ou Escore Padronizado)"
   ]
  },
  {
   "cell_type": "markdown",
   "id": "e08ed640",
   "metadata": {},
   "source": [
    "É o quanto uma medida se afasta da média em termos de Desvios Padrão.\n",
    "\n",
    "Foi desenvolvida no final da década de 1960 por Edward Altman, professor da Universidade de Nova Iorque. No ano de 2012, Altman lançou uma versão atualizada do Z-Score — chamada de Altman Z-Score Plus. \n",
    "\n",
    "Quando o escore Z é positivo isto indica que o dado está acima da média e quando o mesmo é negativo significa que o dado está abaixo da média.\n",
    "\n",
    "Esse teste é utilizado para amostras grande (> ou = 30)\n",
    "\n",
    "Tem um único valor crítico, sendo mais conveniente que o Teste T de Student, que tem valores críticos separados para cada tamanho de amostra.\n",
    "\n",
    "O Z crítico é calculado com base no nível de confiança desejado para o teste. O nível de confiança é uma medida da certeza desejada para a conclusão do teste. Por exemplo, se o nível de confiança for de 0,05, significa que desejamos estar 95% confiantes de que a diferença observada não ocorreu ao acaso.\n",
    "\n",
    "O teste T (Student) é usado quando não sabemos o desvio padrão da população. Quando sabemos, usa-se o teste Z."
   ]
  },
  {
   "cell_type": "markdown",
   "id": "d491f157",
   "metadata": {},
   "source": [
    "### Exemplo"
   ]
  },
  {
   "cell_type": "markdown",
   "id": "2f4928ae",
   "metadata": {},
   "source": [
    "Uma indústria produz discos de metal.\n",
    "\n",
    "Segundo o vendedor, os diâmetros dos discos são de 10 cm, com desvio padrão de 0,13 cm. \n",
    "\n",
    "O comprador selecionou 30 discos aleatoriamente para confirmar os diâmetros e obteve média 9,9 cm. \n",
    "\n",
    "O comprador deseja confirmar os diâmetros para um índice de confiança = 0,05.\n",
    "\n",
    "hipóteses\n",
    "\n",
    "- H0: os discos tem 10 cm de diâmetro (m = 10)\n",
    "- H1: os discos tem diâmetro diferente de 10 cm (m ≠10)"
   ]
  },
  {
   "cell_type": "markdown",
   "id": "da290507",
   "metadata": {},
   "source": [
    "|  Z  |   0    |   1    |   2    |   3    |   4    |   5    |   6    |  7     |   8    |   9    |\n",
    "|-----|--------|--------|--------|--------|--------|--------|--------|--------|--------|--------|\n",
    "| **0.0** | 0.5000 | 0.5040 | 0.5080 | 0.5120 | 0.5160 | 0.5199 | 0.5239 | 0.5279 | 0.5319 | 0.5359 |\n",
    "| **0.1** | 0.5398 | 0.5438 | 0.5478 | 0.5517 | 0.5557 | 0.5596 | 0.5636 | 0.5675 | 0.5714 | 0.5753 |\n",
    "| **0.2** | 0.5793 | 0.5832 | 0.5871 | 0.5910 | 0.5948 | 0.5987 | 0.6026 | 0.6064 | 0.6103 | 0.6141 |\n",
    "| **0.3** | 0.6179 | 0.6217 | 0.6255 | 0.6293 | 0.6331 | 0.6368 | 0.6406 | 0.6443 | 0.6480 | 0.6517 |\n",
    "| **1.9** | 0.9713 | 0.9719 | 0.9726 | 0.9732 | 0.9738 | 0.9744 | 0.9750 | 0.9756 | 0.9761 | 0.9767 |"
   ]
  },
  {
   "cell_type": "code",
   "execution_count": 57,
   "id": "655e0608",
   "metadata": {},
   "outputs": [
    {
     "name": "stdout",
     "output_type": "stream",
     "text": [
      "valor de z -4.213250442347417\n",
      "valor crítico de Z: 0.025\n",
      "valor calculado de Z: 0.975\n",
      "valor de tabela do z: 1.9\n",
      "Rejeita a H0, pois há evidências que comprovem que os discos tem diâmetro diferente de 10 cm\n"
     ]
    }
   ],
   "source": [
    "import math\n",
    "from scipy.stats import norm\n",
    "import pandas as pd\n",
    "\n",
    "def obter_valor_z_tabela(parametro):\n",
    "    tabela = [\n",
    "        ['Z', '0', '1', '2', '3', '4', '5', '6', '7', '8', '9'],\n",
    "        [0.0, 0.5000, 0.5040, 0.5080, 0.5120, 0.5160, 0.5199, 0.5239, 0.5279, 0.5319, 0.5359],\n",
    "        [0.1, 0.5398, 0.5438, 0.5478, 0.5517, 0.5557, 0.5596, 0.5636, 0.5675, 0.5714, 0.5753],\n",
    "        [0.2, 0.5793, 0.5832, 0.5871, 0.5910, 0.5948, 0.5987, 0.6026, 0.6064, 0.6103, 0.6141],\n",
    "        [0.3, 0.6179, 0.6217, 0.6255, 0.6293, 0.6331, 0.6368, 0.6406, 0.6443, 0.6480, 0.6517],\n",
    "        [1.9, 0.9713, 0.9719, 0.9726, 0.9732, 0.9738, 0.9744, 0.9750, 0.9756, 0.9761, 0.9767]\n",
    "    ]\n",
    "    \n",
    "    df = pd.DataFrame(tabela[1:], columns=tabela[0])\n",
    "    df.set_index('Z', inplace=True)\n",
    "    \n",
    "    for coluna in df.columns:\n",
    "        if str(parametro) in str(df[coluna].values):\n",
    "            valor_z = df.index[df[coluna] == float(parametro)].tolist()\n",
    "            return valor_z[0] if valor_z else None\n",
    "    \n",
    "    return None\n",
    "\n",
    "# Parâmetros fornecidos\n",
    "media_populacional = 10.0\n",
    "desvio_padrao_populacional = 0.13\n",
    "media_amostral = 9.9\n",
    "tamanho_amostra = 30\n",
    "\n",
    "# Calculando o valor crítico de Z\n",
    "nivel_confianca = 0.05\n",
    "valor_critico_z = nivel_confianca / 2\n",
    "z_calc = 1 - valor_critico_z\n",
    "\n",
    "# Calculando o desvio padrão da média amostral\n",
    "desvio_padrao_amostral = desvio_padrao_populacional / math.sqrt(tamanho_amostra)\n",
    "\n",
    "# Calculando a pontuação Z\n",
    "valor_z = (media_amostral - media_populacional) / desvio_padrao_amostral\n",
    "print(\"valor de z\", valor_z)\n",
    "print(\"valor crítico de Z:\", valor_critico_z)\n",
    "print(\"valor calculado de Z:\", z_calc)\n",
    "\n",
    "valor_tabela_z = obter_valor_z_tabela(z_calc)\n",
    "print(\"valor de tabela do z:\", valor_tabela_z)\n",
    "\n",
    "# Verificando se a diferença é estatisticamente significativa\n",
    "if abs(valor_z) > abs(valor_tabela_z):\n",
    "    print(\"Rejeita a H0, pois há evidências que comprovem que os discos tem diâmetro diferente de 10 cm\")\n",
    "else:\n",
    "    print(\"Não Rejeita a H0.\")\n"
   ]
  },
  {
   "cell_type": "code",
   "execution_count": null,
   "id": "1815e033",
   "metadata": {},
   "outputs": [],
   "source": []
  }
 ],
 "metadata": {
  "kernelspec": {
   "display_name": "Python 3 (ipykernel)",
   "language": "python",
   "name": "python3"
  },
  "language_info": {
   "codemirror_mode": {
    "name": "ipython",
    "version": 3
   },
   "file_extension": ".py",
   "mimetype": "text/x-python",
   "name": "python",
   "nbconvert_exporter": "python",
   "pygments_lexer": "ipython3",
   "version": "3.10.9"
  }
 },
 "nbformat": 4,
 "nbformat_minor": 5
}
