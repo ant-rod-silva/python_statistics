{
 "cells": [
  {
   "cell_type": "markdown",
   "id": "31ecf3c8",
   "metadata": {},
   "source": [
    "## Importar biblioteca"
   ]
  },
  {
   "cell_type": "code",
   "execution_count": 2,
   "id": "c2451190",
   "metadata": {},
   "outputs": [],
   "source": [
    "import pandas as pd"
   ]
  },
  {
   "cell_type": "markdown",
   "id": "6b140bcb",
   "metadata": {},
   "source": [
    "Em estatística, existem diferentes tipos de frequência que podem ser utilizados para descrever a distribuição dos dados em um conjunto. Os principais tipos de frequência são:\n",
    "\n",
    "**Frequência absoluta:** É o número de vezes que um valor específico ocorre em um conjunto de dados. Ela indica a contagem exata de ocorrências de cada valor.\n",
    "\n",
    "**Frequência acumulada:** É a soma das frequências absolutas ou relativas de todos os valores iguais ou menores do que um determinado valor. A frequência acumulada permite visualizar a distribuição acumulada dos dados.\n",
    "\n",
    "**Frequência relativa:** É a proporção ou porcentagem que a frequência absoluta de um valor representa em relação ao total de observações. É calculada dividindo a frequência absoluta de um valor pela quantidade total de observações.\n",
    "\n",
    "**Frequência acumulada relativa:** É a soma das frequências relativas de todos os valores iguais ou menores do que um determinado valor. É calculada dividindo a frequência acumulada de um valor pela quantidade total de observações."
   ]
  },
  {
   "cell_type": "markdown",
   "id": "a18ee8b7",
   "metadata": {},
   "source": [
    "## Frequência Absoluta Simples"
   ]
  },
  {
   "cell_type": "markdown",
   "id": "2abc648b",
   "metadata": {},
   "source": [
    "Uma pesquisa foi realizada com alunos do 3.º ano do Ensino Médio onde foram perguntados sobre suas preferências de estilos musicais. Ao total 54 alunos responderam à pesquisa.\n",
    "\n",
    "O resultado foi organizado e apresentado na seguinte tabela de frequências:\n",
    "\n",
    "| Coluna 1  | Ocorrências |\n",
    "|-----------|-------------|\n",
    "| pop       | 7           |\n",
    "| rock      | 6           |\n",
    "| Sertanejo | 11          |\n",
    "| Samba     | 8           |\n",
    "| MPB       | 5           |\n",
    "| Jazz      | 4           |\n",
    "| Clássica  | 4           |\n",
    "| Trap      | 9           |\n",
    "\n",
    "Qual a frequência absoluta da variável samba?\n",
    "\n",
    "**Resposta:** 8"
   ]
  },
  {
   "cell_type": "markdown",
   "id": "c7b07e45",
   "metadata": {},
   "source": [
    "## Frequência Absoluta Acumulada"
   ]
  },
  {
   "cell_type": "markdown",
   "id": "193d813c",
   "metadata": {},
   "source": [
    "A frequência absoluta acumulada ou, frequência acumulada, é a soma das frequências absolutas simples de cada variável. "
   ]
  },
  {
   "cell_type": "code",
   "execution_count": 5,
   "id": "2e8bccbd",
   "metadata": {},
   "outputs": [
    {
     "name": "stdout",
     "output_type": "stream",
     "text": [
      "    Coluna 1  Ocorrências  Frequência Acumulada\n",
      "0        pop            7                     7\n",
      "1       rock            6                    13\n",
      "2  Sertanejo           11                    24\n",
      "3      Samba            8                    32\n",
      "4        MPB            5                    37\n",
      "5       Jazz            4                    41\n",
      "6   Clássica            4                    45\n",
      "7       Trap            9                    54\n"
     ]
    }
   ],
   "source": [
    "data = {\n",
    "    'Coluna 1': ['pop', 'rock', 'Sertanejo', 'Samba', 'MPB', 'Jazz', 'Clássica', 'Trap'],\n",
    "    'Ocorrências': [7, 6, 11, 8, 5, 4, 4, 9]\n",
    "}\n",
    "\n",
    "df = pd.DataFrame(data)\n",
    "df['Frequência Acumulada'] = df['Ocorrências'].cumsum()\n",
    "\n",
    "print(df)"
   ]
  },
  {
   "cell_type": "markdown",
   "id": "36f845da",
   "metadata": {},
   "source": [
    "## Frequência relativa"
   ]
  },
  {
   "cell_type": "markdown",
   "id": "b1a96382",
   "metadata": {},
   "source": [
    "Conhecemos como frequência relativa a divisão entre a frequência absoluta e o número de dados coletados para um determinado conjunto."
   ]
  },
  {
   "cell_type": "code",
   "execution_count": 9,
   "id": "f0755610",
   "metadata": {},
   "outputs": [
    {
     "name": "stdout",
     "output_type": "stream",
     "text": [
      "    Coluna 1  Ocorrências  Frequência Relativa Porcentagem\n",
      "0        pop            7             0.129630      12.96%\n",
      "1       rock            6             0.111111      11.11%\n",
      "2  Sertanejo           11             0.203704      20.37%\n",
      "3      Samba            8             0.148148      14.81%\n",
      "4        MPB            5             0.092593       9.26%\n",
      "5       Jazz            4             0.074074       7.41%\n",
      "6   Clássica            4             0.074074       7.41%\n",
      "7       Trap            9             0.166667      16.67%\n"
     ]
    }
   ],
   "source": [
    "import pandas as pd\n",
    "\n",
    "data = {\n",
    "    'Coluna 1': ['pop', 'rock', 'Sertanejo', 'Samba', 'MPB', 'Jazz', 'Clássica', 'Trap'],\n",
    "    'Ocorrências': [7, 6, 11, 8, 5, 4, 4, 9]\n",
    "}\n",
    "\n",
    "df = pd.DataFrame(data)\n",
    "total_ocorrencias = df['Ocorrências'].sum()\n",
    "df['Frequência Relativa'] = df['Ocorrências'] / total_ocorrencias\n",
    "df['Porcentagem'] = df['Frequência Relativa'] * 100\n",
    "df['Porcentagem'] = df['Porcentagem'].map('{:.2f}%'.format)\n",
    "\n",
    "print(df)"
   ]
  },
  {
   "cell_type": "markdown",
   "id": "4858cba8",
   "metadata": {},
   "source": [
    "## Frequência relativa acumulada"
   ]
  },
  {
   "cell_type": "markdown",
   "id": "10c2d85d",
   "metadata": {},
   "source": [
    "A frequência relativa acumulada é o acumulo da frequência relativa. Para encontrar a frequência relativa acumulada, acrescentamos uma nova coluna à tabela. Copiamos a primeira frequência relativa na primeira linha, a segunda linha será a soma da frequência relativa da linha com a frequência acumulada da linha anterior, e assim sucessivamente."
   ]
  },
  {
   "cell_type": "code",
   "execution_count": 13,
   "id": "19f094be",
   "metadata": {},
   "outputs": [
    {
     "name": "stdout",
     "output_type": "stream",
     "text": [
      "    Coluna 1  Ocorrências  Frequência Relativa  Frequência Relativa Acumulada  \\\n",
      "0        pop            7             0.129630                       0.129630   \n",
      "1       rock            6             0.111111                       0.240741   \n",
      "2  Sertanejo           11             0.203704                       0.444444   \n",
      "3      Samba            8             0.148148                       0.592593   \n",
      "4        MPB            5             0.092593                       0.685185   \n",
      "5       Jazz            4             0.074074                       0.759259   \n",
      "6   Clássica            4             0.074074                       0.833333   \n",
      "7       Trap            9             0.166667                       1.000000   \n",
      "\n",
      "  Porcentagem  \n",
      "0      12.96%  \n",
      "1      24.07%  \n",
      "2      44.44%  \n",
      "3      59.26%  \n",
      "4      68.52%  \n",
      "5      75.93%  \n",
      "6      83.33%  \n",
      "7     100.00%  \n"
     ]
    }
   ],
   "source": [
    "import pandas as pd\n",
    "\n",
    "data = {\n",
    "    'Coluna 1': ['pop', 'rock', 'Sertanejo', 'Samba', 'MPB', 'Jazz', 'Clássica', 'Trap'],\n",
    "    'Ocorrências': [7, 6, 11, 8, 5, 4, 4, 9]\n",
    "}\n",
    "\n",
    "df = pd.DataFrame(data)\n",
    "total_ocorrencias = df['Ocorrências'].sum()\n",
    "df['Frequência Relativa'] = df['Ocorrências'] / total_ocorrencias\n",
    "df['Frequência Relativa Acumulada'] = df['Frequência Relativa'].cumsum()\n",
    "df['Porcentagem'] = df['Frequência Relativa Acumulada'] * 100\n",
    "df['Porcentagem'] = df['Porcentagem'].map('{:.2f}%'.format)\n",
    "\n",
    "print(df)"
   ]
  },
  {
   "cell_type": "markdown",
   "id": "f5a27abe",
   "metadata": {},
   "source": [
    "## Criar histograma"
   ]
  },
  {
   "cell_type": "code",
   "execution_count": 16,
   "id": "7c1234b1",
   "metadata": {},
   "outputs": [
    {
     "data": {
      "image/png": "[encoded data removed]",
      "text/plain": [
       "<Figure size 640x480 with 1 Axes>"
      ]
     },
     "metadata": {},
     "output_type": "display_data"
    }
   ],
   "source": [
    "import pandas as pd\n",
    "import matplotlib.pyplot as plt\n",
    "\n",
    "data = [7, 6, 11, 8, 5, 4, 4, 9]\n",
    "\n",
    "df = pd.DataFrame(data, columns=['Valores'])\n",
    "df['Valores'].plot(kind='hist', bins=10)\n",
    "\n",
    "plt.xlabel('Valores')\n",
    "plt.ylabel('Frequência')\n",
    "plt.title('Histograma')\n",
    "\n",
    "plt.show()"
   ]
  },
  {
   "cell_type": "markdown",
   "id": "f9776f0c",
   "metadata": {},
   "source": [
    "## dados em conjunto"
   ]
  },
  {
   "cell_type": "code",
   "execution_count": 17,
   "id": "34204578",
   "metadata": {},
   "outputs": [],
   "source": [
    "df = pd.DataFrame({'Nota': ['A','A','A','B','B', 'B', 'B', 'C', 'D', 'D'],\n",
    "                   'Idade': [18, 18, 18, 19, 19, 20, 18, 18, 19, 19],\n",
    "                   'Sexo': ['M','M', 'F', 'F', 'F', 'M', 'M', 'F', 'M', 'F']})"
   ]
  },
  {
   "cell_type": "markdown",
   "id": "29639c50",
   "metadata": {},
   "source": [
    "### visualizar dados"
   ]
  },
  {
   "cell_type": "code",
   "execution_count": 18,
   "id": "37dae9f7",
   "metadata": {},
   "outputs": [
    {
     "data": {
      "text/html": [
       "<div>\n",
       "<style scoped>\n",
       "    .dataframe tbody tr th:only-of-type {\n",
       "        vertical-align: middle;\n",
       "    }\n",
       "\n",
       "    .dataframe tbody tr th {\n",
       "        vertical-align: top;\n",
       "    }\n",
       "\n",
       "    .dataframe thead th {\n",
       "        text-align: right;\n",
       "    }\n",
       "</style>\n",
       "<table border=\"1\" class=\"dataframe\">\n",
       "  <thead>\n",
       "    <tr style=\"text-align: right;\">\n",
       "      <th></th>\n",
       "      <th>Nota</th>\n",
       "      <th>Idade</th>\n",
       "      <th>Sexo</th>\n",
       "    </tr>\n",
       "  </thead>\n",
       "  <tbody>\n",
       "    <tr>\n",
       "      <th>0</th>\n",
       "      <td>A</td>\n",
       "      <td>18</td>\n",
       "      <td>M</td>\n",
       "    </tr>\n",
       "    <tr>\n",
       "      <th>1</th>\n",
       "      <td>A</td>\n",
       "      <td>18</td>\n",
       "      <td>M</td>\n",
       "    </tr>\n",
       "    <tr>\n",
       "      <th>2</th>\n",
       "      <td>A</td>\n",
       "      <td>18</td>\n",
       "      <td>F</td>\n",
       "    </tr>\n",
       "    <tr>\n",
       "      <th>3</th>\n",
       "      <td>B</td>\n",
       "      <td>19</td>\n",
       "      <td>F</td>\n",
       "    </tr>\n",
       "    <tr>\n",
       "      <th>4</th>\n",
       "      <td>B</td>\n",
       "      <td>19</td>\n",
       "      <td>F</td>\n",
       "    </tr>\n",
       "    <tr>\n",
       "      <th>5</th>\n",
       "      <td>B</td>\n",
       "      <td>20</td>\n",
       "      <td>M</td>\n",
       "    </tr>\n",
       "    <tr>\n",
       "      <th>6</th>\n",
       "      <td>B</td>\n",
       "      <td>18</td>\n",
       "      <td>M</td>\n",
       "    </tr>\n",
       "    <tr>\n",
       "      <th>7</th>\n",
       "      <td>C</td>\n",
       "      <td>18</td>\n",
       "      <td>F</td>\n",
       "    </tr>\n",
       "    <tr>\n",
       "      <th>8</th>\n",
       "      <td>D</td>\n",
       "      <td>19</td>\n",
       "      <td>M</td>\n",
       "    </tr>\n",
       "    <tr>\n",
       "      <th>9</th>\n",
       "      <td>D</td>\n",
       "      <td>19</td>\n",
       "      <td>F</td>\n",
       "    </tr>\n",
       "  </tbody>\n",
       "</table>\n",
       "</div>"
      ],
      "text/plain": [
       "  Nota  Idade Sexo\n",
       "0    A     18    M\n",
       "1    A     18    M\n",
       "2    A     18    F\n",
       "3    B     19    F\n",
       "4    B     19    F\n",
       "5    B     20    M\n",
       "6    B     18    M\n",
       "7    C     18    F\n",
       "8    D     19    M\n",
       "9    D     19    F"
      ]
     },
     "execution_count": 18,
     "metadata": {},
     "output_type": "execute_result"
    }
   ],
   "source": [
    "df"
   ]
  },
  {
   "cell_type": "markdown",
   "id": "d2b8dd74",
   "metadata": {},
   "source": [
    "### Calcular frequência (por nota)"
   ]
  },
  {
   "cell_type": "code",
   "execution_count": 19,
   "id": "341b4d66",
   "metadata": {},
   "outputs": [
    {
     "data": {
      "text/html": [
       "<div>\n",
       "<style scoped>\n",
       "    .dataframe tbody tr th:only-of-type {\n",
       "        vertical-align: middle;\n",
       "    }\n",
       "\n",
       "    .dataframe tbody tr th {\n",
       "        vertical-align: top;\n",
       "    }\n",
       "\n",
       "    .dataframe thead th {\n",
       "        text-align: right;\n",
       "    }\n",
       "</style>\n",
       "<table border=\"1\" class=\"dataframe\">\n",
       "  <thead>\n",
       "    <tr style=\"text-align: right;\">\n",
       "      <th>col_0</th>\n",
       "      <th>count</th>\n",
       "    </tr>\n",
       "    <tr>\n",
       "      <th>Nota</th>\n",
       "      <th></th>\n",
       "    </tr>\n",
       "  </thead>\n",
       "  <tbody>\n",
       "    <tr>\n",
       "      <th>A</th>\n",
       "      <td>3</td>\n",
       "    </tr>\n",
       "    <tr>\n",
       "      <th>B</th>\n",
       "      <td>4</td>\n",
       "    </tr>\n",
       "    <tr>\n",
       "      <th>C</th>\n",
       "      <td>1</td>\n",
       "    </tr>\n",
       "    <tr>\n",
       "      <th>D</th>\n",
       "      <td>2</td>\n",
       "    </tr>\n",
       "  </tbody>\n",
       "</table>\n",
       "</div>"
      ],
      "text/plain": [
       "col_0  count\n",
       "Nota        \n",
       "A          3\n",
       "B          4\n",
       "C          1\n",
       "D          2"
      ]
     },
     "execution_count": 19,
     "metadata": {},
     "output_type": "execute_result"
    }
   ],
   "source": [
    "pd.crosstab(index=df['Nota'], columns='count')\n"
   ]
  },
  {
   "cell_type": "markdown",
   "id": "0864cd5d",
   "metadata": {},
   "source": [
    "### Calcular frequência (por idade)"
   ]
  },
  {
   "cell_type": "code",
   "execution_count": 20,
   "id": "d0cf329c",
   "metadata": {},
   "outputs": [
    {
     "data": {
      "text/html": [
       "<div>\n",
       "<style scoped>\n",
       "    .dataframe tbody tr th:only-of-type {\n",
       "        vertical-align: middle;\n",
       "    }\n",
       "\n",
       "    .dataframe tbody tr th {\n",
       "        vertical-align: top;\n",
       "    }\n",
       "\n",
       "    .dataframe thead th {\n",
       "        text-align: right;\n",
       "    }\n",
       "</style>\n",
       "<table border=\"1\" class=\"dataframe\">\n",
       "  <thead>\n",
       "    <tr style=\"text-align: right;\">\n",
       "      <th>col_0</th>\n",
       "      <th>count</th>\n",
       "    </tr>\n",
       "    <tr>\n",
       "      <th>Idade</th>\n",
       "      <th></th>\n",
       "    </tr>\n",
       "  </thead>\n",
       "  <tbody>\n",
       "    <tr>\n",
       "      <th>18</th>\n",
       "      <td>5</td>\n",
       "    </tr>\n",
       "    <tr>\n",
       "      <th>19</th>\n",
       "      <td>4</td>\n",
       "    </tr>\n",
       "    <tr>\n",
       "      <th>20</th>\n",
       "      <td>1</td>\n",
       "    </tr>\n",
       "  </tbody>\n",
       "</table>\n",
       "</div>"
      ],
      "text/plain": [
       "col_0  count\n",
       "Idade       \n",
       "18         5\n",
       "19         4\n",
       "20         1"
      ]
     },
     "execution_count": 20,
     "metadata": {},
     "output_type": "execute_result"
    }
   ],
   "source": [
    "pd.crosstab(index=df['Idade'], columns='count') \n"
   ]
  },
  {
   "cell_type": "markdown",
   "id": "3efce212",
   "metadata": {},
   "source": [
    "### Calcular frequência (por idade e nota)"
   ]
  },
  {
   "cell_type": "code",
   "execution_count": 21,
   "id": "20f6c59b",
   "metadata": {},
   "outputs": [
    {
     "data": {
      "text/html": [
       "<div>\n",
       "<style scoped>\n",
       "    .dataframe tbody tr th:only-of-type {\n",
       "        vertical-align: middle;\n",
       "    }\n",
       "\n",
       "    .dataframe tbody tr th {\n",
       "        vertical-align: top;\n",
       "    }\n",
       "\n",
       "    .dataframe thead th {\n",
       "        text-align: right;\n",
       "    }\n",
       "</style>\n",
       "<table border=\"1\" class=\"dataframe\">\n",
       "  <thead>\n",
       "    <tr style=\"text-align: right;\">\n",
       "      <th>Nota</th>\n",
       "      <th>A</th>\n",
       "      <th>B</th>\n",
       "      <th>C</th>\n",
       "      <th>D</th>\n",
       "    </tr>\n",
       "    <tr>\n",
       "      <th>Idade</th>\n",
       "      <th></th>\n",
       "      <th></th>\n",
       "      <th></th>\n",
       "      <th></th>\n",
       "    </tr>\n",
       "  </thead>\n",
       "  <tbody>\n",
       "    <tr>\n",
       "      <th>18</th>\n",
       "      <td>3</td>\n",
       "      <td>1</td>\n",
       "      <td>1</td>\n",
       "      <td>0</td>\n",
       "    </tr>\n",
       "    <tr>\n",
       "      <th>19</th>\n",
       "      <td>0</td>\n",
       "      <td>2</td>\n",
       "      <td>0</td>\n",
       "      <td>2</td>\n",
       "    </tr>\n",
       "    <tr>\n",
       "      <th>20</th>\n",
       "      <td>0</td>\n",
       "      <td>1</td>\n",
       "      <td>0</td>\n",
       "      <td>0</td>\n",
       "    </tr>\n",
       "  </tbody>\n",
       "</table>\n",
       "</div>"
      ],
      "text/plain": [
       "Nota   A  B  C  D\n",
       "Idade            \n",
       "18     3  1  1  0\n",
       "19     0  2  0  2\n",
       "20     0  1  0  0"
      ]
     },
     "execution_count": 21,
     "metadata": {},
     "output_type": "execute_result"
    }
   ],
   "source": [
    "pd.crosstab(index=df['Idade'], columns=df['Nota'])\n"
   ]
  },
  {
   "cell_type": "markdown",
   "id": "4a6ca7cd",
   "metadata": {},
   "source": [
    "### Proporções"
   ]
  },
  {
   "cell_type": "code",
   "execution_count": 22,
   "id": "16a5a93f",
   "metadata": {},
   "outputs": [
    {
     "data": {
      "text/html": [
       "<div>\n",
       "<style scoped>\n",
       "    .dataframe tbody tr th:only-of-type {\n",
       "        vertical-align: middle;\n",
       "    }\n",
       "\n",
       "    .dataframe tbody tr th {\n",
       "        vertical-align: top;\n",
       "    }\n",
       "\n",
       "    .dataframe thead th {\n",
       "        text-align: right;\n",
       "    }\n",
       "</style>\n",
       "<table border=\"1\" class=\"dataframe\">\n",
       "  <thead>\n",
       "    <tr style=\"text-align: right;\">\n",
       "      <th>col_0</th>\n",
       "      <th>count</th>\n",
       "    </tr>\n",
       "    <tr>\n",
       "      <th>Idade</th>\n",
       "      <th></th>\n",
       "    </tr>\n",
       "  </thead>\n",
       "  <tbody>\n",
       "    <tr>\n",
       "      <th>18</th>\n",
       "      <td>0.5</td>\n",
       "    </tr>\n",
       "    <tr>\n",
       "      <th>19</th>\n",
       "      <td>0.4</td>\n",
       "    </tr>\n",
       "    <tr>\n",
       "      <th>20</th>\n",
       "      <td>0.1</td>\n",
       "    </tr>\n",
       "  </tbody>\n",
       "</table>\n",
       "</div>"
      ],
      "text/plain": [
       "col_0  count\n",
       "Idade       \n",
       "18       0.5\n",
       "19       0.4\n",
       "20       0.1"
      ]
     },
     "execution_count": 22,
     "metadata": {},
     "output_type": "execute_result"
    }
   ],
   "source": [
    "tab = pd.crosstab(index=df['Idade'], columns='count')\n",
    "tab/tab.sum()\n"
   ]
  },
  {
   "cell_type": "code",
   "execution_count": null,
   "id": "8dbdd95d",
   "metadata": {},
   "outputs": [],
   "source": []
  }
 ],
 "metadata": {
  "kernelspec": {
   "display_name": "Python 3 (ipykernel)",
   "language": "python",
   "name": "python3"
  },
  "language_info": {
   "codemirror_mode": {
    "name": "ipython",
    "version": 3
   },
   "file_extension": ".py",
   "mimetype": "text/x-python",
   "name": "python",
   "nbconvert_exporter": "python",
   "pygments_lexer": "ipython3",
   "version": "3.9.13"
  }
 },
 "nbformat": 4,
 "nbformat_minor": 5
}
