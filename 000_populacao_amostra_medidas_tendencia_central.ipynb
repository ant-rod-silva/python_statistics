{
 "cells": [
  {
   "cell_type": "markdown",
   "id": "3a9e87a5",
   "metadata": {},
   "source": [
    "# 1. População, amostra e medidas de tendência central"
   ]
  },
  {
   "cell_type": "code",
   "execution_count": 1,
   "id": "f2c7f2c1",
   "metadata": {},
   "outputs": [],
   "source": [
    "## bibliotecas de comandos\n",
    "## !pip3 install statistics"
   ]
  },
  {
   "cell_type": "code",
   "execution_count": 2,
   "id": "6079b359",
   "metadata": {},
   "outputs": [],
   "source": [
    "import statistics\n",
    "import numpy as np"
   ]
  },
  {
   "cell_type": "markdown",
   "id": "30738445",
   "metadata": {},
   "source": [
    "## 1.1 População (μ) e amostra (n)"
   ]
  },
  {
   "cell_type": "markdown",
   "id": "44085aac",
   "metadata": {},
   "source": [
    "Como pesquisadores, estamos interessados em encontrar resultados que se apliquem a toda uma população de pessoas ou coisas.\n",
    "A população pode ser geral (todos os seres humanos) ou muito pequena (todos os gatos siameses de nome Bob).\n",
    "Cientistas raramente (senão nunca) terão acesso a cada membro da população. Portanto, coleta-se dados de um subgrupo da população, chamado amostra, e usamos estes dados para inferir coisas sobre toda a população.\n",
    "Quanto maior a amostra, maior a probabilidade de ela refletir a população inteira."
   ]
  },
  {
   "cell_type": "markdown",
   "id": "0c60a3f5",
   "metadata": {},
   "source": [
    "Os dados a seguir são as temperaturas do anel de vedação do motor do foguete do ônibus espacial Challenger nos testes de acionamento ou lançamento real (Presidential Commission on the Space Shuttle Challenger Accident, Vol. 1, 1986: 129-131)."
   ]
  },
  {
   "cell_type": "code",
   "execution_count": 3,
   "id": "282590a0",
   "metadata": {},
   "outputs": [],
   "source": [
    "a = [84,49,61,40,83,67,45,66,70,69,\n",
    "     80,58,68,60,67,72,73,70,57,63,\n",
    "     70,78,52,67,53,67,75,61,70,81,\n",
    "     76,79,75,76,58,31]"
   ]
  },
  {
   "cell_type": "markdown",
   "id": "c6c9da65",
   "metadata": {},
   "source": [
    "## 1.2 Média aritmética"
   ]
  },
  {
   "cell_type": "markdown",
   "id": "2bc65218",
   "metadata": {},
   "source": [
    "**Definição:** valor hipotético que representa um resumo de dados. É um dos modelos mais simples da estatística. Precisa ser validado para determinar a sua precisão (ex: desvios, erro total, soma dos erros ao quadrado, variância...).\n",
    "\n",
    "**Objetivo da média:** representar um conjunto de dados por um único valor.\n",
    "\n",
    "**Observação:** não existe uma medida central universalmente mais precisa para representar o valor central do conjunto: o que precisamos levar em consideração é a situação que estamos analisando para fazer a melhor escolha de medida central.\n",
    "Somatório de todos os elementos da série divididos pelo número de elementos."
   ]
  },
  {
   "cell_type": "markdown",
   "id": "002f1f3b",
   "metadata": {},
   "source": [
    "Equação:\n",
    "\n",
    "$$\\text{Média aritmética} = \\frac{{x_1 + x_2 + \\ldots + x_n}}{n}$$"
   ]
  },
  {
   "cell_type": "markdown",
   "id": "5888e057",
   "metadata": {},
   "source": [
    "\n",
    "$$ \\text{Média aritmética} = \\frac{1}{n} \\sum_{i=1}^{n} X_i $$\n",
    "\n",
    "\n",
    "**onde:**\n",
    "\n",
    "* **$X_i$**: são os valores individuais do conjunto X;\n",
    "* **$\\sum$**: é o símbolo de somatório, que indica que devemos somar os valores de \\(X_i\\) de \\(i = 1\\) até \\(i = n\\);\n",
    "* **$n$**: é o número de elementos no conjunto X."
   ]
  },
  {
   "cell_type": "code",
   "execution_count": 4,
   "id": "45a6bcaf",
   "metadata": {},
   "outputs": [
    {
     "name": "stdout",
     "output_type": "stream",
     "text": [
      "[84, 49, 61, 40, 83, 67, 45, 66, 70, 69, 80, 58, 68, 60, 67, 72, 73, 70, 57, 63, 70, 78, 52, 67, 53, 67, 75, 61, 70, 81, 76, 79, 75, 76, 58, 31]\n"
     ]
    }
   ],
   "source": [
    "print(a)"
   ]
  },
  {
   "cell_type": "code",
   "execution_count": 7,
   "id": "ba1b84f7",
   "metadata": {},
   "outputs": [
    {
     "name": "stdout",
     "output_type": "stream",
     "text": [
      "média aritmética: 65.86\n"
     ]
    }
   ],
   "source": [
    "media_aritmetica = statistics.mean(a)\n",
    "print(\"média aritmética: {:.2f}\".format(media_aritmetica))"
   ]
  },
  {
   "cell_type": "markdown",
   "id": "c475ec6b",
   "metadata": {},
   "source": [
    "**Observação importante:** o valor da média é afetado pelo valor dos extremos. Por exemplo, dada uma amostra de salários, em que a maior parte for notadamente mais baixa, se houver uma pequena porcentagem de salários altos, a média indicará um alto valor salarial."
   ]
  },
  {
   "cell_type": "code",
   "execution_count": 7,
   "id": "1992ea2b",
   "metadata": {},
   "outputs": [
    {
     "name": "stdout",
     "output_type": "stream",
     "text": [
      "Média dos salários baixos: R$ 1166.14\n",
      "Média dos salários altos: R$ 7844.70\n"
     ]
    }
   ],
   "source": [
    "import random\n",
    "\n",
    "# Amostra de salários com maior parte baixa\n",
    "salarios_baixos = [random.randint(800, 1500) for _ in range(100)]\n",
    "\n",
    "# Cálculo da média\n",
    "media_salarios_baixos = sum(salarios_baixos) / len(salarios_baixos)\n",
    "\n",
    "print(f\"Média dos salários baixos: R$ {media_salarios_baixos:.2f}\")\n",
    "\n",
    "# Amostra de salários com alguns salários altos\n",
    "salarios_altos = [random.randint(5000, 10000) for _ in range(10)]\n",
    "\n",
    "# Cálculo da média\n",
    "media_salarios_altos = sum(salarios_altos) / len(salarios_altos)\n",
    "\n",
    "print(f\"Média dos salários altos: R$ {media_salarios_altos:.2f}\")\n"
   ]
  },
  {
   "cell_type": "markdown",
   "id": "69208613",
   "metadata": {},
   "source": [
    "## 1.3 Moda"
   ]
  },
  {
   "cell_type": "markdown",
   "id": "c03ec0eb",
   "metadata": {},
   "source": [
    "A moda é o valor que ocorre mais vezes ou com maior frequência."
   ]
  },
  {
   "cell_type": "code",
   "execution_count": 35,
   "id": "f3875ff3",
   "metadata": {},
   "outputs": [
    {
     "name": "stdout",
     "output_type": "stream",
     "text": [
      "[31, 40, 45, 49, 52, 53, 57, 58, 58, 60, 61, 61, 63, 66, 67, 67, 67, 67, 68, 69, 70, 70, 70, 70, 72, 73, 75, 75, 76, 76, 78, 79, 80, 81, 83, 84]\n"
     ]
    }
   ],
   "source": [
    "print(a)"
   ]
  },
  {
   "cell_type": "code",
   "execution_count": 8,
   "id": "999581a1",
   "metadata": {},
   "outputs": [
    {
     "name": "stdout",
     "output_type": "stream",
     "text": [
      "Moda: 67\n"
     ]
    }
   ],
   "source": [
    "moda = statistics.mode(a)\n",
    "print(f\"Moda: {moda}\")"
   ]
  },
  {
   "cell_type": "markdown",
   "id": "49ed2efe",
   "metadata": {},
   "source": [
    "## 1.4 Mediana"
   ]
  },
  {
   "cell_type": "markdown",
   "id": "ace109b6",
   "metadata": {},
   "source": [
    "A mediana é determinada ordenando-se os dados de forma crescente ou decrescente e determinando o valor central da série."
   ]
  },
  {
   "cell_type": "markdown",
   "id": "b25f4bff",
   "metadata": {},
   "source": [
    "**Cálculo:**\n",
    "\n",
    "  - Devemos ordenar o conjunto de dados em ordem crescente;\n",
    "  - Se o número de elementos for par, então a mediana é a média dos dois valores centrais. \n",
    "    Soma os dois valores centrais e divide o resultado por 2\n",
    "  - Se o número de elementos for ímpar, então a mediana é o valor central."
   ]
  },
  {
   "cell_type": "code",
   "execution_count": 37,
   "id": "884bf25e",
   "metadata": {},
   "outputs": [
    {
     "name": "stdout",
     "output_type": "stream",
     "text": [
      "[31, 40, 45, 49, 52, 53, 57, 58, 58, 60, 61, 61, 63, 66, 67, 67, 67, 67, 68, 69, 70, 70, 70, 70, 72, 73, 75, 75, 76, 76, 78, 79, 80, 81, 83, 84]\n"
     ]
    }
   ],
   "source": [
    "a.sort()\n",
    "print(a)"
   ]
  },
  {
   "cell_type": "code",
   "execution_count": 9,
   "id": "2ac41aeb",
   "metadata": {},
   "outputs": [
    {
     "name": "stdout",
     "output_type": "stream",
     "text": [
      "Mediana: 67.5\n"
     ]
    }
   ],
   "source": [
    "mediana = statistics.median(a)\n",
    "print(f\"Mediana: {mediana}\")"
   ]
  },
  {
   "cell_type": "markdown",
   "id": "73cb6b8b",
   "metadata": {},
   "source": [
    "## 1.5 Média geométrica"
   ]
  },
  {
   "cell_type": "markdown",
   "id": "b5dafde3",
   "metadata": {},
   "source": [
    "É utilizada para representação de conjuntos que se comportam como progressão geométrica.\n",
    "\n",
    "A média geométrica é obtida extraindo-se a raiz n-ésima da multiplicação dos n termos da série numérica.\n",
    "\n",
    "Também ela é empregada na geometria, para comparar lados de prismas e cubos de mesmo volume, ou quadrados e retângulos de mesma área. Há também aplicação em problemas da matemática financeira que envolvam taxa percentual acumulada, ou seja, porcentagem sob porcentagem."
   ]
  },
  {
   "cell_type": "markdown",
   "id": "89397461",
   "metadata": {},
   "source": [
    "Fórmula: <img src=\"https://static.mundoeducacao.uol.com.br/mundoeducacao/2020/05/formula-media-geometrica.png\">"
   ]
  },
  {
   "cell_type": "markdown",
   "id": "8895c597",
   "metadata": {},
   "source": [
    "**Exemplo 01:** Um produto, durante três meses, teve aumentos consecutivos, o primeiro foi de 20%, o segundo de 10% e o terceiro de 25%. Qual foi o aumento médio percentual ao final desse período?\n",
    "\n",
    "**Resolução:**\n",
    "\n",
    "O produto custava inicialmente 100%, logo no primeiro mês ele passou a custar 120%, que, na sua forma decimal, escreve-se 1,2. Esse raciocínio será o mesmo para os três aumentos, então queremos a média geométrica entre: 1,2; 1,1; e 1,25."
   ]
  },
  {
   "cell_type": "code",
   "execution_count": 25,
   "id": "a6126dbe",
   "metadata": {},
   "outputs": [
    {
     "name": "stdout",
     "output_type": "stream",
     "text": [
      "Média geométrica: 1.182\n",
      "O aumento é de 18.2% por mês em média.\n"
     ]
    }
   ],
   "source": [
    "a = [1.2, 1.1, 1.25]\n",
    "media_geometrica = statistics.geometric_mean(a)\n",
    "print(\"Média geométrica: {:.3f}\".format(media_geometrica))\n",
    "aumento_percentual = (media_geometrica - 1) * 100\n",
    "print(\"O aumento é de {:.1f}% por mês em média.\".format(aumento_percentual))"
   ]
  },
  {
   "cell_type": "markdown",
   "id": "6b822e40",
   "metadata": {},
   "source": [
    "## 1.6 Média harmônica"
   ]
  },
  {
   "cell_type": "markdown",
   "id": "0fb39764",
   "metadata": {},
   "source": [
    "Medidas centrais que fazem esse mesmo papel: mediana e a moda.\n",
    "Emprega-se quando trabalhamos com grandezas inversamente proporcionais.\n",
    "A média harmônica é calculada pela divisão de n (quantidade de elementos) pela soma dos inversos dos elementos."
   ]
  },
  {
   "cell_type": "markdown",
   "id": "3df6f47d",
   "metadata": {},
   "source": [
    "<img src=\"https://static.mundoeducacao.uol.com.br/mundoeducacao/2020/05/11.jpg\">"
   ]
  },
  {
   "cell_type": "markdown",
   "id": "07533ba7",
   "metadata": {},
   "source": [
    "**Mh:** média harmônica\n",
    "\n",
    "**n:** quantidade de elementos"
   ]
  },
  {
   "cell_type": "markdown",
   "id": "ae8e5b17",
   "metadata": {},
   "source": [
    "----------------------------"
   ]
  },
  {
   "cell_type": "markdown",
   "id": "480f0cdb",
   "metadata": {},
   "source": [
    "**Exemplo 1:** Aplicação no cálculo da velocidade média.\n",
    "\n",
    "Um carro realiza um percurso duas vezes. \n",
    "Na ida, ele faz o percurso com uma velocidade v1 = 80 km/h. \n",
    "Na volta, ele realiza o mesmo percurso com velocidade de v2 = 120 km/h. \n",
    "Qual foi a velocidade média ao juntar-se ida e volta?\n",
    "\n",
    "**Análise:**\n",
    "\n",
    "Primeiro o que precisa ficar claro é o motivo de usarmos a média harmônica. \n",
    "Note que a distância é a mesma, para a ida e para a volta, o que muda é a velocidade e, consequentemente, o tempo. \n",
    "Se eu aumento a velocidade, o tempo que eu levo para percorrer uma mesma distância diminuirá, logo, essas grandezas são inversamente proporcionais. \n",
    "Quando eu estou trabalhando com grandezas inversamente proporcionais, utilizamos a média harmônica."
   ]
  },
  {
   "cell_type": "code",
   "execution_count": 13,
   "id": "52f28ec5",
   "metadata": {},
   "outputs": [
    {
     "name": "stdout",
     "output_type": "stream",
     "text": [
      "Média harmônica: 96.0 km/h\n"
     ]
    }
   ],
   "source": [
    "a = [120,80]\n",
    "media_harmonica = statistics.harmonic_mean(a)\n",
    "print(\"Média harmônica: {} km/h\".format(media_harmonica))"
   ]
  },
  {
   "cell_type": "markdown",
   "id": "68bec6e9",
   "metadata": {},
   "source": [
    "-----------------"
   ]
  },
  {
   "cell_type": "markdown",
   "id": "06e996da",
   "metadata": {},
   "source": [
    "**Exemplo 2:** Vazão de torneiras.\n",
    "\n",
    "Para encher um tanque, uma torneira leva 12 horas. \n",
    "Para encher esse mesmo tanque, outra torneira leva 6 horas. \n",
    "Caso as duas torneiras fossem abertas ao mesmo tempo, quanto tempo elas levariam para encher o tanque?\n",
    "\n",
    "**Análise:**\n",
    "\n",
    "Vazão e tempo são grandezas inversamente proporcionais, pois, quanto maior a vazão da torneira, \n",
    "menor será o tempo que ela levará para encher o tanque. \n",
    "Desse modo, utilizaremos a média harmônica para encontrarmos o tempo das duas torneiras."
   ]
  },
  {
   "cell_type": "code",
   "execution_count": 15,
   "id": "33c2e0f2",
   "metadata": {},
   "outputs": [
    {
     "name": "stdout",
     "output_type": "stream",
     "text": [
      "Média harmônica: 8.0 horas\n"
     ]
    }
   ],
   "source": [
    "a = [12,6]\n",
    "media_harmonica = statistics.harmonic_mean(a)\n",
    "print(\"Média harmônica: {} horas\".format(media_harmonica))"
   ]
  },
  {
   "cell_type": "markdown",
   "id": "b323edb4",
   "metadata": {},
   "source": [
    "## 1.7 Média ponderada"
   ]
  },
  {
   "cell_type": "markdown",
   "id": "482fbfcb",
   "metadata": {},
   "source": [
    "É a média que leva em consideração o peso atribuído a cada um dos valores dos quais queremos calcular a média. Quanto maior o peso de determinado valor, maior será o impacto dele na média, tornando esses valores mais relevantes.\n",
    "\n",
    "A média ponderada é aplicada, por exemplo, em situações que envolvem notas, ou quando há acúmulos de frequência para determinados valores.\n",
    "\n",
    "O peso faz com que alguns valores tenham mais impactos no cálculo da média."
   ]
  },
  {
   "cell_type": "markdown",
   "id": "d09213d8",
   "metadata": {},
   "source": [
    "<img src=\"https://4.bp.blogspot.com/_bkHmXGOWek0/TK-IBIaDLRI/AAAAAAAAALM/Kum2EhE3JjQ/s1600/imagem1.bmp\" />"
   ]
  },
  {
   "cell_type": "markdown",
   "id": "c274c1e4",
   "metadata": {},
   "source": [
    "**Exemplo 1:** Temos o número de funcionários de uma empresa para cada cargo e seus respectivos salários:\n",
    "    \n",
    "    \n",
    "| Função           | Quantidade | Salário  |\n",
    "|------------------|------------|----------|\n",
    "| Auxiliar admin.  | 5          | 1100     |\n",
    "| Atendente        | 16         | 2000     |\n",
    "| Gerente          | 3          | 5500     |\n",
    "| Gestor           | 1          | 12500    |\n"
   ]
  },
  {
   "cell_type": "code",
   "execution_count": 19,
   "id": "fe3a51a6",
   "metadata": {},
   "outputs": [
    {
     "name": "stdout",
     "output_type": "stream",
     "text": [
      "Média ponderada: R$ 2660.00\n"
     ]
    }
   ],
   "source": [
    "salarios = np.array([1100,2000,5500,12500])\n",
    "pesos = np.array([5,16,3,1])\n",
    "\n",
    "media_ponderada = np.average(salarios, weights=pesos)\n",
    "print(\"Média ponderada: R$ {:.2f}\".format(media_ponderada))"
   ]
  },
  {
   "cell_type": "markdown",
   "id": "d34fba6c",
   "metadata": {},
   "source": [
    "--------------------------------------"
   ]
  },
  {
   "cell_type": "markdown",
   "id": "92594b89",
   "metadata": {},
   "source": [
    "**Exemplo 2:** A nota final de uma disciplina da faculdade é constituída por 4 critérios, sendo eles:\n",
    "\n",
    "apresentação do trabalho, peso 2;\n",
    "\n",
    "atividades feitas em casa, peso 3;\n",
    "\n",
    "primeira avaliação discursiva, peso 2,5;\n",
    "\n",
    "segunda avaliação discursiva, peso 2,5.\n",
    "\n",
    "Se um estudante tirou na apresentação do trabalho 8 pontos; na atividade em sala, 10 pontos; na primeira avaliação discursiva, 4 pontos; e na segunda avaliação discursiva, 6 pontos, então a média obtida por esse estudante foi de:"
   ]
  },
  {
   "cell_type": "code",
   "execution_count": 21,
   "id": "95b87595",
   "metadata": {},
   "outputs": [
    {
     "name": "stdout",
     "output_type": "stream",
     "text": [
      "Média ponderada: 7.10\n"
     ]
    }
   ],
   "source": [
    "notas = np.array([8, 10, 4, 6])\n",
    "pesos = np.array([2, 3, 2.5, 2.5])\n",
    "\n",
    "media_ponderada = np.average(notas, weights=pesos)\n",
    "print(\"Média ponderada: {:.2f}\".format(media_ponderada))"
   ]
  },
  {
   "cell_type": "markdown",
   "id": "3672fb79",
   "metadata": {},
   "source": [
    "## Fonte"
   ]
  },
  {
   "cell_type": "markdown",
   "id": "34aab240",
   "metadata": {},
   "source": [
    "Montgomery, DC; Runger, GC. Estatística aplicada e probabilidade para engenheiros. Rio de Janeiro: LTC Editora, 2012 (5ª Edição)."
   ]
  },
  {
   "cell_type": "code",
   "execution_count": null,
   "id": "448319d3",
   "metadata": {},
   "outputs": [],
   "source": []
  }
 ],
 "metadata": {
  "kernelspec": {
   "display_name": "Python 3 (ipykernel)",
   "language": "python",
   "name": "python3"
  },
  "language_info": {
   "codemirror_mode": {
    "name": "ipython",
    "version": 3
   },
   "file_extension": ".py",
   "mimetype": "text/x-python",
   "name": "python",
   "nbconvert_exporter": "python",
   "pygments_lexer": "ipython3",
   "version": "3.10.9"
  }
 },
 "nbformat": 4,
 "nbformat_minor": 5
}
