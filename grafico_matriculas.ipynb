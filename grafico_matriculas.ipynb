{
 "cells": [
  {
   "cell_type": "code",
   "execution_count": null,
   "id": "9f5cc1c6",
   "metadata": {},
   "outputs": [],
   "source": [
    "#!pip install pandas\n",
    "#!pip install matplotlib\n",
    "#!pip install seaborn\n",
    "#!pip install plotly\n",
    "#!pip install tensorflow\n",
    "#!pip install --upgrade numpy\n",
    "#!pip uninstall numpy\n",
    "#!pip install numpy==1.22"
   ]
  },
  {
   "cell_type": "code",
   "execution_count": 104,
   "id": "0e5ac131",
   "metadata": {},
   "outputs": [],
   "source": [
    "import pandas as pd\n",
    "import plotly.express as px\n",
    "\n",
    "# Dados fornecidos\n",
    "data = {\n",
    "    'Unidades': [\n",
    "        'Cp. Acaraú', 'Cp. Acopiara', 'Cp. Aracati', \n",
    "        'Cp. Av. Guaramiranga', 'Cp. Av. Jaguaruana', 'Cp. Av. Mombaça', \n",
    "        'Cp. Av. Pecém', 'Cp. Baturité', 'Cp. Boa Viagem',\n",
    "        'Cp. Camocim', 'Cp. Canindé', 'Cp. Caucaia',\n",
    "        'Cp. Cedro', 'Cp. Crateús', 'Cp. Crato',\n",
    "        'Cp. Fortaleza', 'Cp. Horizonte', 'Cp. Iguatu',\n",
    "        'Cp. Itapipoca', 'Cp. Jaguaribe', 'Cp. Juazeiro',\n",
    "        'Cp. Limoeiro', 'Cp. Maracanaú', 'Cp. Maranguape',\n",
    "        'Cp. Morada Nova', 'Cp. Paracuru', 'Cp. Quixadá',\n",
    "        'Cp. Sobral', 'Cp. Tabuleiro', 'Cp. Tauá',\n",
    "        'Cp. Tianguá', 'Cp. Ubajara', 'Cp. Umirim'\n",
    "    ],\n",
    "    2017: [1649, 189, 1611, 116, 600, 0, 598, 1007, 1363, 890, 1031, 789, 1706, 1149, 1671, 10151, 872, 2161, 665, 772, 2148, 2046, 2733, 309, 842, 505, 2180, 3039, 687, 605, 1404,751,753],\n",
    "    2018: [1786, 722, 1464, 298, 607, 0, 914, 1293, 789, 988, 1618, 846, 1662, 1827, 1300, 9625, 894, 1882, 1233, 1055, 2572, 2150, 2505, 961, 1015, 813, 1638, 3417, 1509, 982, 1346,1030,672],\n",
    "    2019: [1717, 804, 1513, 442, 759, 0, 1094, 1291, 1058, 969, 2087, 909, 2001, 2171, 2009, 9807, 884, 2209, 1167, 1028, 2308, 2517, 2727, 1065, 869, 976, 1868, 3652, 1765, 823, 1459,1066,694],\n",
    "    2020: [1612, 763, 1400, 879, 794, 0, 1099, 1061, 1063, 1411, 1953, 808, 2063, 2557, 1663, 9539, 623, 3022, 1319, 958, 2221, 2860, 2479, 837, 806, 867, 2008, 2569, 876, 693, 1345,1276,831],\n",
    "    2021: [1494, 959, 1512, 1737, 2011, 40, 1606, 1149, 1248, 1630, 2102, 875, 1680, 1801, 1370, 9850, 382, 2042, 1060, 877, 2083, 3189, 2965, 1009, 751, 978, 2603, 3146, 833, 574, 1269,1601,762],\n",
    "    2022: [1961, 848, 1563, 733, 2489, 323, 2066, 2673, 828, 1205, 1744, 960, 2231, 2185, 1617, 11198, 2411, 2898, 1060, 1156, 2773, 3260, 3302, 841, 969, 1344, 2696, 4472, 2384, 1356, 1605,1584,1016]\n",
    "}\n",
    "\n",
    "# Definindo cores hexadecimais para cada unidade\n",
    "cor_mapa = {\n",
    "    'Cp. Acaraú': '#006400',           # Verde-escuro\n",
    "    'Cp. Acopiara': '#FFC300',         # Amarelo\n",
    "    'Cp. Aracati': '#900C3F',          # Roxo\n",
    "    'Cp. Av. Guaramiranga': '#556B2F', # oliva escura\n",
    "    'Cp. Av. Jaguaruana': '#C70039',   # Vermelho escuro\n",
    "    'Cp. Av. Mombaça': '#000000',      # Preto\n",
    "    'Cp. Av. Pecém': '#FF007F',        # Rosa\n",
    "    'Cp. Baturité': '#900C3F',         # Roxo\n",
    "    'Cp. Boa Viagem': '#581845',       # Vinho\n",
    "    'Cp. Camocim': '#C70039',          # Vermelho escuro\n",
    "    'Cp. Canindé': '#FA7F72',          # Salmão\n",
    "    'Cp. Caucaia': '#0000FF',          # Azul\n",
    "    'Cp. Cedro': '#900C3F',            # Roxo\n",
    "    'Cp. Fortaleza': '#900C3F',        # Roxo\n",
    "    'Cp. Horizonte': '#900C3F',        # Roxo\n",
    "    'Cp. Itapipoca': '#900C3F',        # Roxo\n",
    "    'Cp. Jaguaribe': '#900C3F',        # Roxo\n",
    "    'Cp. Juazeiro': '#900C3F',         # Roxo\n",
    "    'Cp. Limoeiro': '#900C3F',         # Roxo\n",
    "    'Cp. Maracanaú': '#900C3F',        # Roxo\n",
    "    'Cp. Maranguape': '#900C3F',       # Roxo\n",
    "    'Cp. Morada Nova': '#900C3F',      # Roxo\n",
    "    'Cp. Paracuru': '#900C3F',         # Roxo\n",
    "    'Cp. Quixadá': '#900C3F'         # Roxo\n",
    "}\n",
    "\n",
    "\n",
    "# Criando o DataFrame\n",
    "df = pd.DataFrame(data)\n",
    "\n",
    "# Melt do DataFrame para transformar os anos em uma única coluna\n",
    "df_melted = df.melt(id_vars='Unidades', var_name='Ano', value_name='Número de Matrículas')  # Alteração aqui!"
   ]
  },
  {
   "cell_type": "markdown",
   "id": "3f8ceaa2",
   "metadata": {},
   "source": [
    "## Gráfico de barras empilhadas"
   ]
  },
  {
   "cell_type": "code",
   "execution_count": 105,
   "id": "86aa5638",
   "metadata": {},
   "outputs": [
    {
     "data": {
      "application/vnd.plotly.v1+json": {
       "config": {
        "plotlyServerURL": "https://plot.ly"
       },
       "data": [
        {
         "name": "2017",
         "type": "bar",
         "x": [
          "Cp. Acaraú",
          "Cp. Acopiara",
          "Cp. Aracati",
          "Cp. Av. Guaramiranga",
          "Cp. Av. Jaguaruana",
          "Cp. Av. Mombaça",
          "Cp. Av. Pecém",
          "Cp. Baturité",
          "Cp. Boa Viagem",
          "Cp. Camocim",
          "Cp. Canindé",
          "Cp. Caucaia",
          "Cp. Cedro",
          "Cp. Crateús",
          "Cp. Crato",
          "Cp. Fortaleza",
          "Cp. Horizonte",
          "Cp. Iguatu",
          "Cp. Itapipoca",
          "Cp. Jaguaribe",
          "Cp. Juazeiro",
          "Cp. Limoeiro",
          "Cp. Maracanaú",
          "Cp. Maranguape",
          "Cp. Morada Nova",
          "Cp. Paracuru",
          "Cp. Quixadá",
          "Cp. Sobral",
          "Cp. Tabuleiro",
          "Cp. Tauá",
          "Cp. Tianguá",
          "Cp. Ubajara",
          "Cp. Umirim"
         ],
         "y": [
          1649,
          189,
          1611,
          116,
          600,
          0,
          598,
          1007,
          1363,
          890,
          1031,
          789,
          1706,
          1149,
          1671,
          10151,
          872,
          2161,
          665,
          772,
          2148,
          2046,
          2733,
          309,
          842,
          505,
          2180,
          3039,
          687,
          605,
          1404,
          751,
          753
         ]
        },
        {
         "name": "2018",
         "type": "bar",
         "x": [
          "Cp. Acaraú",
          "Cp. Acopiara",
          "Cp. Aracati",
          "Cp. Av. Guaramiranga",
          "Cp. Av. Jaguaruana",
          "Cp. Av. Mombaça",
          "Cp. Av. Pecém",
          "Cp. Baturité",
          "Cp. Boa Viagem",
          "Cp. Camocim",
          "Cp. Canindé",
          "Cp. Caucaia",
          "Cp. Cedro",
          "Cp. Crateús",
          "Cp. Crato",
          "Cp. Fortaleza",
          "Cp. Horizonte",
          "Cp. Iguatu",
          "Cp. Itapipoca",
          "Cp. Jaguaribe",
          "Cp. Juazeiro",
          "Cp. Limoeiro",
          "Cp. Maracanaú",
          "Cp. Maranguape",
          "Cp. Morada Nova",
          "Cp. Paracuru",
          "Cp. Quixadá",
          "Cp. Sobral",
          "Cp. Tabuleiro",
          "Cp. Tauá",
          "Cp. Tianguá",
          "Cp. Ubajara",
          "Cp. Umirim"
         ],
         "y": [
          1786,
          722,
          1464,
          298,
          607,
          0,
          914,
          1293,
          789,
          988,
          1618,
          846,
          1662,
          1827,
          1300,
          9625,
          894,
          1882,
          1233,
          1055,
          2572,
          2150,
          2505,
          961,
          1015,
          813,
          1638,
          3417,
          1509,
          982,
          1346,
          1030,
          672
         ]
        },
        {
         "name": "2019",
         "type": "bar",
         "x": [
          "Cp. Acaraú",
          "Cp. Acopiara",
          "Cp. Aracati",
          "Cp. Av. Guaramiranga",
          "Cp. Av. Jaguaruana",
          "Cp. Av. Mombaça",
          "Cp. Av. Pecém",
          "Cp. Baturité",
          "Cp. Boa Viagem",
          "Cp. Camocim",
          "Cp. Canindé",
          "Cp. Caucaia",
          "Cp. Cedro",
          "Cp. Crateús",
          "Cp. Crato",
          "Cp. Fortaleza",
          "Cp. Horizonte",
          "Cp. Iguatu",
          "Cp. Itapipoca",
          "Cp. Jaguaribe",
          "Cp. Juazeiro",
          "Cp. Limoeiro",
          "Cp. Maracanaú",
          "Cp. Maranguape",
          "Cp. Morada Nova",
          "Cp. Paracuru",
          "Cp. Quixadá",
          "Cp. Sobral",
          "Cp. Tabuleiro",
          "Cp. Tauá",
          "Cp. Tianguá",
          "Cp. Ubajara",
          "Cp. Umirim"
         ],
         "y": [
          1717,
          804,
          1513,
          442,
          759,
          0,
          1094,
          1291,
          1058,
          969,
          2087,
          909,
          2001,
          2171,
          2009,
          9807,
          884,
          2209,
          1167,
          1028,
          2308,
          2517,
          2727,
          1065,
          869,
          976,
          1868,
          3652,
          1765,
          823,
          1459,
          1066,
          694
         ]
        },
        {
         "name": "2020",
         "type": "bar",
         "x": [
          "Cp. Acaraú",
          "Cp. Acopiara",
          "Cp. Aracati",
          "Cp. Av. Guaramiranga",
          "Cp. Av. Jaguaruana",
          "Cp. Av. Mombaça",
          "Cp. Av. Pecém",
          "Cp. Baturité",
          "Cp. Boa Viagem",
          "Cp. Camocim",
          "Cp. Canindé",
          "Cp. Caucaia",
          "Cp. Cedro",
          "Cp. Crateús",
          "Cp. Crato",
          "Cp. Fortaleza",
          "Cp. Horizonte",
          "Cp. Iguatu",
          "Cp. Itapipoca",
          "Cp. Jaguaribe",
          "Cp. Juazeiro",
          "Cp. Limoeiro",
          "Cp. Maracanaú",
          "Cp. Maranguape",
          "Cp. Morada Nova",
          "Cp. Paracuru",
          "Cp. Quixadá",
          "Cp. Sobral",
          "Cp. Tabuleiro",
          "Cp. Tauá",
          "Cp. Tianguá",
          "Cp. Ubajara",
          "Cp. Umirim"
         ],
         "y": [
          1612,
          763,
          1400,
          879,
          794,
          0,
          1099,
          1061,
          1063,
          1411,
          1953,
          808,
          2063,
          2557,
          1663,
          9539,
          623,
          3022,
          1319,
          958,
          2221,
          2860,
          2479,
          837,
          806,
          867,
          2008,
          2569,
          876,
          693,
          1345,
          1276,
          831
         ]
        },
        {
         "name": "2021",
         "type": "bar",
         "x": [
          "Cp. Acaraú",
          "Cp. Acopiara",
          "Cp. Aracati",
          "Cp. Av. Guaramiranga",
          "Cp. Av. Jaguaruana",
          "Cp. Av. Mombaça",
          "Cp. Av. Pecém",
          "Cp. Baturité",
          "Cp. Boa Viagem",
          "Cp. Camocim",
          "Cp. Canindé",
          "Cp. Caucaia",
          "Cp. Cedro",
          "Cp. Crateús",
          "Cp. Crato",
          "Cp. Fortaleza",
          "Cp. Horizonte",
          "Cp. Iguatu",
          "Cp. Itapipoca",
          "Cp. Jaguaribe",
          "Cp. Juazeiro",
          "Cp. Limoeiro",
          "Cp. Maracanaú",
          "Cp. Maranguape",
          "Cp. Morada Nova",
          "Cp. Paracuru",
          "Cp. Quixadá",
          "Cp. Sobral",
          "Cp. Tabuleiro",
          "Cp. Tauá",
          "Cp. Tianguá",
          "Cp. Ubajara",
          "Cp. Umirim"
         ],
         "y": [
          1494,
          959,
          1512,
          1737,
          2011,
          40,
          1606,
          1149,
          1248,
          1630,
          2102,
          875,
          1680,
          1801,
          1370,
          9850,
          382,
          2042,
          1060,
          877,
          2083,
          3189,
          2965,
          1009,
          751,
          978,
          2603,
          3146,
          833,
          574,
          1269,
          1601,
          762
         ]
        },
        {
         "name": "2022",
         "type": "bar",
         "x": [
          "Cp. Acaraú",
          "Cp. Acopiara",
          "Cp. Aracati",
          "Cp. Av. Guaramiranga",
          "Cp. Av. Jaguaruana",
          "Cp. Av. Mombaça",
          "Cp. Av. Pecém",
          "Cp. Baturité",
          "Cp. Boa Viagem",
          "Cp. Camocim",
          "Cp. Canindé",
          "Cp. Caucaia",
          "Cp. Cedro",
          "Cp. Crateús",
          "Cp. Crato",
          "Cp. Fortaleza",
          "Cp. Horizonte",
          "Cp. Iguatu",
          "Cp. Itapipoca",
          "Cp. Jaguaribe",
          "Cp. Juazeiro",
          "Cp. Limoeiro",
          "Cp. Maracanaú",
          "Cp. Maranguape",
          "Cp. Morada Nova",
          "Cp. Paracuru",
          "Cp. Quixadá",
          "Cp. Sobral",
          "Cp. Tabuleiro",
          "Cp. Tauá",
          "Cp. Tianguá",
          "Cp. Ubajara",
          "Cp. Umirim"
         ],
         "y": [
          1961,
          848,
          1563,
          733,
          2489,
          323,
          2066,
          2673,
          828,
          1205,
          1744,
          960,
          2231,
          2185,
          1617,
          11198,
          2411,
          2898,
          1060,
          1156,
          2773,
          3260,
          3302,
          841,
          969,
          1344,
          2696,
          4472,
          2384,
          1356,
          1605,
          1584,
          1016
         ]
        }
       ],
       "layout": {
        "barmode": "stack",
        "template": {
         "data": {
          "bar": [
           {
            "error_x": {
             "color": "#2a3f5f"
            },
            "error_y": {
             "color": "#2a3f5f"
            },
            "marker": {
             "line": {
              "color": "#E5ECF6",
              "width": 0.5
             },
             "pattern": {
              "fillmode": "overlay",
              "size": 10,
              "solidity": 0.2
             }
            },
            "type": "bar"
           }
          ],
          "barpolar": [
           {
            "marker": {
             "line": {
              "color": "#E5ECF6",
              "width": 0.5
             },
             "pattern": {
              "fillmode": "overlay",
              "size": 10,
              "solidity": 0.2
             }
            },
            "type": "barpolar"
           }
          ],
          "carpet": [
           {
            "aaxis": {
             "endlinecolor": "#2a3f5f",
             "gridcolor": "white",
             "linecolor": "white",
             "minorgridcolor": "white",
             "startlinecolor": "#2a3f5f"
            },
            "baxis": {
             "endlinecolor": "#2a3f5f",
             "gridcolor": "white",
             "linecolor": "white",
             "minorgridcolor": "white",
             "startlinecolor": "#2a3f5f"
            },
            "type": "carpet"
           }
          ],
          "choropleth": [
           {
            "colorbar": {
             "outlinewidth": 0,
             "ticks": ""
            },
            "type": "choropleth"
           }
          ],
          "contour": [
           {
            "colorbar": {
             "outlinewidth": 0,
             "ticks": ""
            },
            "colorscale": [
             [
              0,
              "#0d0887"
             ],
             [
              0.1111111111111111,
              "#46039f"
             ],
             [
              0.2222222222222222,
              "#7201a8"
             ],
             [
              0.3333333333333333,
              "#9c179e"
             ],
             [
              0.4444444444444444,
              "#bd3786"
             ],
             [
              0.5555555555555556,
              "#d8576b"
             ],
             [
              0.6666666666666666,
              "#ed7953"
             ],
             [
              0.7777777777777778,
              "#fb9f3a"
             ],
             [
              0.8888888888888888,
              "#fdca26"
             ],
             [
              1,
              "#f0f921"
             ]
            ],
            "type": "contour"
           }
          ],
          "contourcarpet": [
           {
            "colorbar": {
             "outlinewidth": 0,
             "ticks": ""
            },
            "type": "contourcarpet"
           }
          ],
          "heatmap": [
           {
            "colorbar": {
             "outlinewidth": 0,
             "ticks": ""
            },
            "colorscale": [
             [
              0,
              "#0d0887"
             ],
             [
              0.1111111111111111,
              "#46039f"
             ],
             [
              0.2222222222222222,
              "#7201a8"
             ],
             [
              0.3333333333333333,
              "#9c179e"
             ],
             [
              0.4444444444444444,
              "#bd3786"
             ],
             [
              0.5555555555555556,
              "#d8576b"
             ],
             [
              0.6666666666666666,
              "#ed7953"
             ],
             [
              0.7777777777777778,
              "#fb9f3a"
             ],
             [
              0.8888888888888888,
              "#fdca26"
             ],
             [
              1,
              "#f0f921"
             ]
            ],
            "type": "heatmap"
           }
          ],
          "heatmapgl": [
           {
            "colorbar": {
             "outlinewidth": 0,
             "ticks": ""
            },
            "colorscale": [
             [
              0,
              "#0d0887"
             ],
             [
              0.1111111111111111,
              "#46039f"
             ],
             [
              0.2222222222222222,
              "#7201a8"
             ],
             [
              0.3333333333333333,
              "#9c179e"
             ],
             [
              0.4444444444444444,
              "#bd3786"
             ],
             [
              0.5555555555555556,
              "#d8576b"
             ],
             [
              0.6666666666666666,
              "#ed7953"
             ],
             [
              0.7777777777777778,
              "#fb9f3a"
             ],
             [
              0.8888888888888888,
              "#fdca26"
             ],
             [
              1,
              "#f0f921"
             ]
            ],
            "type": "heatmapgl"
           }
          ],
          "histogram": [
           {
            "marker": {
             "pattern": {
              "fillmode": "overlay",
              "size": 10,
              "solidity": 0.2
             }
            },
            "type": "histogram"
           }
          ],
          "histogram2d": [
           {
            "colorbar": {
             "outlinewidth": 0,
             "ticks": ""
            },
            "colorscale": [
             [
              0,
              "#0d0887"
             ],
             [
              0.1111111111111111,
              "#46039f"
             ],
             [
              0.2222222222222222,
              "#7201a8"
             ],
             [
              0.3333333333333333,
              "#9c179e"
             ],
             [
              0.4444444444444444,
              "#bd3786"
             ],
             [
              0.5555555555555556,
              "#d8576b"
             ],
             [
              0.6666666666666666,
              "#ed7953"
             ],
             [
              0.7777777777777778,
              "#fb9f3a"
             ],
             [
              0.8888888888888888,
              "#fdca26"
             ],
             [
              1,
              "#f0f921"
             ]
            ],
            "type": "histogram2d"
           }
          ],
          "histogram2dcontour": [
           {
            "colorbar": {
             "outlinewidth": 0,
             "ticks": ""
            },
            "colorscale": [
             [
              0,
              "#0d0887"
             ],
             [
              0.1111111111111111,
              "#46039f"
             ],
             [
              0.2222222222222222,
              "#7201a8"
             ],
             [
              0.3333333333333333,
              "#9c179e"
             ],
             [
              0.4444444444444444,
              "#bd3786"
             ],
             [
              0.5555555555555556,
              "#d8576b"
             ],
             [
              0.6666666666666666,
              "#ed7953"
             ],
             [
              0.7777777777777778,
              "#fb9f3a"
             ],
             [
              0.8888888888888888,
              "#fdca26"
             ],
             [
              1,
              "#f0f921"
             ]
            ],
            "type": "histogram2dcontour"
           }
          ],
          "mesh3d": [
           {
            "colorbar": {
             "outlinewidth": 0,
             "ticks": ""
            },
            "type": "mesh3d"
           }
          ],
          "parcoords": [
           {
            "line": {
             "colorbar": {
              "outlinewidth": 0,
              "ticks": ""
             }
            },
            "type": "parcoords"
           }
          ],
          "pie": [
           {
            "automargin": true,
            "type": "pie"
           }
          ],
          "scatter": [
           {
            "fillpattern": {
             "fillmode": "overlay",
             "size": 10,
             "solidity": 0.2
            },
            "type": "scatter"
           }
          ],
          "scatter3d": [
           {
            "line": {
             "colorbar": {
              "outlinewidth": 0,
              "ticks": ""
             }
            },
            "marker": {
             "colorbar": {
              "outlinewidth": 0,
              "ticks": ""
             }
            },
            "type": "scatter3d"
           }
          ],
          "scattercarpet": [
           {
            "marker": {
             "colorbar": {
              "outlinewidth": 0,
              "ticks": ""
             }
            },
            "type": "scattercarpet"
           }
          ],
          "scattergeo": [
           {
            "marker": {
             "colorbar": {
              "outlinewidth": 0,
              "ticks": ""
             }
            },
            "type": "scattergeo"
           }
          ],
          "scattergl": [
           {
            "marker": {
             "colorbar": {
              "outlinewidth": 0,
              "ticks": ""
             }
            },
            "type": "scattergl"
           }
          ],
          "scattermapbox": [
           {
            "marker": {
             "colorbar": {
              "outlinewidth": 0,
              "ticks": ""
             }
            },
            "type": "scattermapbox"
           }
          ],
          "scatterpolar": [
           {
            "marker": {
             "colorbar": {
              "outlinewidth": 0,
              "ticks": ""
             }
            },
            "type": "scatterpolar"
           }
          ],
          "scatterpolargl": [
           {
            "marker": {
             "colorbar": {
              "outlinewidth": 0,
              "ticks": ""
             }
            },
            "type": "scatterpolargl"
           }
          ],
          "scatterternary": [
           {
            "marker": {
             "colorbar": {
              "outlinewidth": 0,
              "ticks": ""
             }
            },
            "type": "scatterternary"
           }
          ],
          "surface": [
           {
            "colorbar": {
             "outlinewidth": 0,
             "ticks": ""
            },
            "colorscale": [
             [
              0,
              "#0d0887"
             ],
             [
              0.1111111111111111,
              "#46039f"
             ],
             [
              0.2222222222222222,
              "#7201a8"
             ],
             [
              0.3333333333333333,
              "#9c179e"
             ],
             [
              0.4444444444444444,
              "#bd3786"
             ],
             [
              0.5555555555555556,
              "#d8576b"
             ],
             [
              0.6666666666666666,
              "#ed7953"
             ],
             [
              0.7777777777777778,
              "#fb9f3a"
             ],
             [
              0.8888888888888888,
              "#fdca26"
             ],
             [
              1,
              "#f0f921"
             ]
            ],
            "type": "surface"
           }
          ],
          "table": [
           {
            "cells": {
             "fill": {
              "color": "#EBF0F8"
             },
             "line": {
              "color": "white"
             }
            },
            "header": {
             "fill": {
              "color": "#C8D4E3"
             },
             "line": {
              "color": "white"
             }
            },
            "type": "table"
           }
          ]
         },
         "layout": {
          "annotationdefaults": {
           "arrowcolor": "#2a3f5f",
           "arrowhead": 0,
           "arrowwidth": 1
          },
          "autotypenumbers": "strict",
          "coloraxis": {
           "colorbar": {
            "outlinewidth": 0,
            "ticks": ""
           }
          },
          "colorscale": {
           "diverging": [
            [
             0,
             "#8e0152"
            ],
            [
             0.1,
             "#c51b7d"
            ],
            [
             0.2,
             "#de77ae"
            ],
            [
             0.3,
             "#f1b6da"
            ],
            [
             0.4,
             "#fde0ef"
            ],
            [
             0.5,
             "#f7f7f7"
            ],
            [
             0.6,
             "#e6f5d0"
            ],
            [
             0.7,
             "#b8e186"
            ],
            [
             0.8,
             "#7fbc41"
            ],
            [
             0.9,
             "#4d9221"
            ],
            [
             1,
             "#276419"
            ]
           ],
           "sequential": [
            [
             0,
             "#0d0887"
            ],
            [
             0.1111111111111111,
             "#46039f"
            ],
            [
             0.2222222222222222,
             "#7201a8"
            ],
            [
             0.3333333333333333,
             "#9c179e"
            ],
            [
             0.4444444444444444,
             "#bd3786"
            ],
            [
             0.5555555555555556,
             "#d8576b"
            ],
            [
             0.6666666666666666,
             "#ed7953"
            ],
            [
             0.7777777777777778,
             "#fb9f3a"
            ],
            [
             0.8888888888888888,
             "#fdca26"
            ],
            [
             1,
             "#f0f921"
            ]
           ],
           "sequentialminus": [
            [
             0,
             "#0d0887"
            ],
            [
             0.1111111111111111,
             "#46039f"
            ],
            [
             0.2222222222222222,
             "#7201a8"
            ],
            [
             0.3333333333333333,
             "#9c179e"
            ],
            [
             0.4444444444444444,
             "#bd3786"
            ],
            [
             0.5555555555555556,
             "#d8576b"
            ],
            [
             0.6666666666666666,
             "#ed7953"
            ],
            [
             0.7777777777777778,
             "#fb9f3a"
            ],
            [
             0.8888888888888888,
             "#fdca26"
            ],
            [
             1,
             "#f0f921"
            ]
           ]
          },
          "colorway": [
           "#636efa",
           "#EF553B",
           "#00cc96",
           "#ab63fa",
           "#FFA15A",
           "#19d3f3",
           "#FF6692",
           "#B6E880",
           "#FF97FF",
           "#FECB52"
          ],
          "font": {
           "color": "#2a3f5f"
          },
          "geo": {
           "bgcolor": "white",
           "lakecolor": "white",
           "landcolor": "#E5ECF6",
           "showlakes": true,
           "showland": true,
           "subunitcolor": "white"
          },
          "hoverlabel": {
           "align": "left"
          },
          "hovermode": "closest",
          "mapbox": {
           "style": "light"
          },
          "paper_bgcolor": "white",
          "plot_bgcolor": "#E5ECF6",
          "polar": {
           "angularaxis": {
            "gridcolor": "white",
            "linecolor": "white",
            "ticks": ""
           },
           "bgcolor": "#E5ECF6",
           "radialaxis": {
            "gridcolor": "white",
            "linecolor": "white",
            "ticks": ""
           }
          },
          "scene": {
           "xaxis": {
            "backgroundcolor": "#E5ECF6",
            "gridcolor": "white",
            "gridwidth": 2,
            "linecolor": "white",
            "showbackground": true,
            "ticks": "",
            "zerolinecolor": "white"
           },
           "yaxis": {
            "backgroundcolor": "#E5ECF6",
            "gridcolor": "white",
            "gridwidth": 2,
            "linecolor": "white",
            "showbackground": true,
            "ticks": "",
            "zerolinecolor": "white"
           },
           "zaxis": {
            "backgroundcolor": "#E5ECF6",
            "gridcolor": "white",
            "gridwidth": 2,
            "linecolor": "white",
            "showbackground": true,
            "ticks": "",
            "zerolinecolor": "white"
           }
          },
          "shapedefaults": {
           "line": {
            "color": "#2a3f5f"
           }
          },
          "ternary": {
           "aaxis": {
            "gridcolor": "white",
            "linecolor": "white",
            "ticks": ""
           },
           "baxis": {
            "gridcolor": "white",
            "linecolor": "white",
            "ticks": ""
           },
           "bgcolor": "#E5ECF6",
           "caxis": {
            "gridcolor": "white",
            "linecolor": "white",
            "ticks": ""
           }
          },
          "title": {
           "x": 0.05
          },
          "xaxis": {
           "automargin": true,
           "gridcolor": "white",
           "linecolor": "white",
           "ticks": "",
           "title": {
            "standoff": 15
           },
           "zerolinecolor": "white",
           "zerolinewidth": 2
          },
          "yaxis": {
           "automargin": true,
           "gridcolor": "white",
           "linecolor": "white",
           "ticks": "",
           "title": {
            "standoff": 15
           },
           "zerolinecolor": "white",
           "zerolinewidth": 2
          }
         }
        },
        "title": {
         "text": "Evolução das Unidades por Ano"
        },
        "xaxis": {
         "title": {
          "text": "Unidades"
         }
        },
        "yaxis": {
         "title": {
          "text": "Quantidade"
         }
        }
       }
      },
      "text/html": [
       "<div>                            <div id=\"67a452ff-4b94-42b1-863c-5e86ce928d06\" class=\"plotly-graph-div\" style=\"height:525px; width:100%;\"></div>            <script type=\"text/javascript\">                require([\"plotly\"], function(Plotly) {                    window.PLOTLYENV=window.PLOTLYENV || {};                                    if (document.getElementById(\"67a452ff-4b94-42b1-863c-5e86ce928d06\")) {                    Plotly.newPlot(                        \"67a452ff-4b94-42b1-863c-5e86ce928d06\",                        [{\"name\":\"2017\",\"x\":[\"Cp. Acara\\u00fa\",\"Cp. Acopiara\",\"Cp. Aracati\",\"Cp. Av. Guaramiranga\",\"Cp. Av. Jaguaruana\",\"Cp. Av. Momba\\u00e7a\",\"Cp. Av. Pec\\u00e9m\",\"Cp. Baturit\\u00e9\",\"Cp. Boa Viagem\",\"Cp. Camocim\",\"Cp. Canind\\u00e9\",\"Cp. Caucaia\",\"Cp. Cedro\",\"Cp. Crate\\u00fas\",\"Cp. Crato\",\"Cp. Fortaleza\",\"Cp. Horizonte\",\"Cp. Iguatu\",\"Cp. Itapipoca\",\"Cp. Jaguaribe\",\"Cp. Juazeiro\",\"Cp. Limoeiro\",\"Cp. Maracana\\u00fa\",\"Cp. Maranguape\",\"Cp. Morada Nova\",\"Cp. Paracuru\",\"Cp. Quixad\\u00e1\",\"Cp. Sobral\",\"Cp. Tabuleiro\",\"Cp. Tau\\u00e1\",\"Cp. Tiangu\\u00e1\",\"Cp. Ubajara\",\"Cp. Umirim\"],\"y\":[1649,189,1611,116,600,0,598,1007,1363,890,1031,789,1706,1149,1671,10151,872,2161,665,772,2148,2046,2733,309,842,505,2180,3039,687,605,1404,751,753],\"type\":\"bar\"},{\"name\":\"2018\",\"x\":[\"Cp. Acara\\u00fa\",\"Cp. Acopiara\",\"Cp. Aracati\",\"Cp. Av. Guaramiranga\",\"Cp. Av. Jaguaruana\",\"Cp. Av. Momba\\u00e7a\",\"Cp. Av. Pec\\u00e9m\",\"Cp. Baturit\\u00e9\",\"Cp. Boa Viagem\",\"Cp. Camocim\",\"Cp. Canind\\u00e9\",\"Cp. Caucaia\",\"Cp. Cedro\",\"Cp. Crate\\u00fas\",\"Cp. Crato\",\"Cp. Fortaleza\",\"Cp. Horizonte\",\"Cp. Iguatu\",\"Cp. Itapipoca\",\"Cp. Jaguaribe\",\"Cp. Juazeiro\",\"Cp. Limoeiro\",\"Cp. Maracana\\u00fa\",\"Cp. Maranguape\",\"Cp. Morada Nova\",\"Cp. Paracuru\",\"Cp. Quixad\\u00e1\",\"Cp. Sobral\",\"Cp. Tabuleiro\",\"Cp. Tau\\u00e1\",\"Cp. Tiangu\\u00e1\",\"Cp. Ubajara\",\"Cp. Umirim\"],\"y\":[1786,722,1464,298,607,0,914,1293,789,988,1618,846,1662,1827,1300,9625,894,1882,1233,1055,2572,2150,2505,961,1015,813,1638,3417,1509,982,1346,1030,672],\"type\":\"bar\"},{\"name\":\"2019\",\"x\":[\"Cp. Acara\\u00fa\",\"Cp. Acopiara\",\"Cp. Aracati\",\"Cp. Av. Guaramiranga\",\"Cp. Av. Jaguaruana\",\"Cp. Av. Momba\\u00e7a\",\"Cp. Av. Pec\\u00e9m\",\"Cp. Baturit\\u00e9\",\"Cp. Boa Viagem\",\"Cp. Camocim\",\"Cp. Canind\\u00e9\",\"Cp. Caucaia\",\"Cp. Cedro\",\"Cp. Crate\\u00fas\",\"Cp. Crato\",\"Cp. Fortaleza\",\"Cp. Horizonte\",\"Cp. Iguatu\",\"Cp. Itapipoca\",\"Cp. Jaguaribe\",\"Cp. Juazeiro\",\"Cp. Limoeiro\",\"Cp. Maracana\\u00fa\",\"Cp. Maranguape\",\"Cp. Morada Nova\",\"Cp. Paracuru\",\"Cp. Quixad\\u00e1\",\"Cp. Sobral\",\"Cp. Tabuleiro\",\"Cp. Tau\\u00e1\",\"Cp. Tiangu\\u00e1\",\"Cp. Ubajara\",\"Cp. Umirim\"],\"y\":[1717,804,1513,442,759,0,1094,1291,1058,969,2087,909,2001,2171,2009,9807,884,2209,1167,1028,2308,2517,2727,1065,869,976,1868,3652,1765,823,1459,1066,694],\"type\":\"bar\"},{\"name\":\"2020\",\"x\":[\"Cp. Acara\\u00fa\",\"Cp. Acopiara\",\"Cp. Aracati\",\"Cp. Av. Guaramiranga\",\"Cp. Av. Jaguaruana\",\"Cp. Av. Momba\\u00e7a\",\"Cp. Av. Pec\\u00e9m\",\"Cp. Baturit\\u00e9\",\"Cp. Boa Viagem\",\"Cp. Camocim\",\"Cp. Canind\\u00e9\",\"Cp. Caucaia\",\"Cp. Cedro\",\"Cp. Crate\\u00fas\",\"Cp. Crato\",\"Cp. Fortaleza\",\"Cp. Horizonte\",\"Cp. Iguatu\",\"Cp. Itapipoca\",\"Cp. Jaguaribe\",\"Cp. Juazeiro\",\"Cp. Limoeiro\",\"Cp. Maracana\\u00fa\",\"Cp. Maranguape\",\"Cp. Morada Nova\",\"Cp. Paracuru\",\"Cp. Quixad\\u00e1\",\"Cp. Sobral\",\"Cp. Tabuleiro\",\"Cp. Tau\\u00e1\",\"Cp. Tiangu\\u00e1\",\"Cp. Ubajara\",\"Cp. Umirim\"],\"y\":[1612,763,1400,879,794,0,1099,1061,1063,1411,1953,808,2063,2557,1663,9539,623,3022,1319,958,2221,2860,2479,837,806,867,2008,2569,876,693,1345,1276,831],\"type\":\"bar\"},{\"name\":\"2021\",\"x\":[\"Cp. Acara\\u00fa\",\"Cp. Acopiara\",\"Cp. Aracati\",\"Cp. Av. Guaramiranga\",\"Cp. Av. Jaguaruana\",\"Cp. Av. Momba\\u00e7a\",\"Cp. Av. Pec\\u00e9m\",\"Cp. Baturit\\u00e9\",\"Cp. Boa Viagem\",\"Cp. Camocim\",\"Cp. Canind\\u00e9\",\"Cp. Caucaia\",\"Cp. Cedro\",\"Cp. Crate\\u00fas\",\"Cp. Crato\",\"Cp. Fortaleza\",\"Cp. Horizonte\",\"Cp. Iguatu\",\"Cp. Itapipoca\",\"Cp. Jaguaribe\",\"Cp. Juazeiro\",\"Cp. Limoeiro\",\"Cp. Maracana\\u00fa\",\"Cp. Maranguape\",\"Cp. Morada Nova\",\"Cp. Paracuru\",\"Cp. Quixad\\u00e1\",\"Cp. Sobral\",\"Cp. Tabuleiro\",\"Cp. Tau\\u00e1\",\"Cp. Tiangu\\u00e1\",\"Cp. Ubajara\",\"Cp. Umirim\"],\"y\":[1494,959,1512,1737,2011,40,1606,1149,1248,1630,2102,875,1680,1801,1370,9850,382,2042,1060,877,2083,3189,2965,1009,751,978,2603,3146,833,574,1269,1601,762],\"type\":\"bar\"},{\"name\":\"2022\",\"x\":[\"Cp. Acara\\u00fa\",\"Cp. Acopiara\",\"Cp. Aracati\",\"Cp. Av. Guaramiranga\",\"Cp. Av. Jaguaruana\",\"Cp. Av. Momba\\u00e7a\",\"Cp. Av. Pec\\u00e9m\",\"Cp. Baturit\\u00e9\",\"Cp. Boa Viagem\",\"Cp. Camocim\",\"Cp. Canind\\u00e9\",\"Cp. Caucaia\",\"Cp. Cedro\",\"Cp. Crate\\u00fas\",\"Cp. Crato\",\"Cp. Fortaleza\",\"Cp. Horizonte\",\"Cp. Iguatu\",\"Cp. Itapipoca\",\"Cp. Jaguaribe\",\"Cp. Juazeiro\",\"Cp. Limoeiro\",\"Cp. Maracana\\u00fa\",\"Cp. Maranguape\",\"Cp. Morada Nova\",\"Cp. Paracuru\",\"Cp. Quixad\\u00e1\",\"Cp. Sobral\",\"Cp. Tabuleiro\",\"Cp. Tau\\u00e1\",\"Cp. Tiangu\\u00e1\",\"Cp. Ubajara\",\"Cp. Umirim\"],\"y\":[1961,848,1563,733,2489,323,2066,2673,828,1205,1744,960,2231,2185,1617,11198,2411,2898,1060,1156,2773,3260,3302,841,969,1344,2696,4472,2384,1356,1605,1584,1016],\"type\":\"bar\"}],                        {\"template\":{\"data\":{\"histogram2dcontour\":[{\"type\":\"histogram2dcontour\",\"colorbar\":{\"outlinewidth\":0,\"ticks\":\"\"},\"colorscale\":[[0.0,\"#0d0887\"],[0.1111111111111111,\"#46039f\"],[0.2222222222222222,\"#7201a8\"],[0.3333333333333333,\"#9c179e\"],[0.4444444444444444,\"#bd3786\"],[0.5555555555555556,\"#d8576b\"],[0.6666666666666666,\"#ed7953\"],[0.7777777777777778,\"#fb9f3a\"],[0.8888888888888888,\"#fdca26\"],[1.0,\"#f0f921\"]]}],\"choropleth\":[{\"type\":\"choropleth\",\"colorbar\":{\"outlinewidth\":0,\"ticks\":\"\"}}],\"histogram2d\":[{\"type\":\"histogram2d\",\"colorbar\":{\"outlinewidth\":0,\"ticks\":\"\"},\"colorscale\":[[0.0,\"#0d0887\"],[0.1111111111111111,\"#46039f\"],[0.2222222222222222,\"#7201a8\"],[0.3333333333333333,\"#9c179e\"],[0.4444444444444444,\"#bd3786\"],[0.5555555555555556,\"#d8576b\"],[0.6666666666666666,\"#ed7953\"],[0.7777777777777778,\"#fb9f3a\"],[0.8888888888888888,\"#fdca26\"],[1.0,\"#f0f921\"]]}],\"heatmap\":[{\"type\":\"heatmap\",\"colorbar\":{\"outlinewidth\":0,\"ticks\":\"\"},\"colorscale\":[[0.0,\"#0d0887\"],[0.1111111111111111,\"#46039f\"],[0.2222222222222222,\"#7201a8\"],[0.3333333333333333,\"#9c179e\"],[0.4444444444444444,\"#bd3786\"],[0.5555555555555556,\"#d8576b\"],[0.6666666666666666,\"#ed7953\"],[0.7777777777777778,\"#fb9f3a\"],[0.8888888888888888,\"#fdca26\"],[1.0,\"#f0f921\"]]}],\"heatmapgl\":[{\"type\":\"heatmapgl\",\"colorbar\":{\"outlinewidth\":0,\"ticks\":\"\"},\"colorscale\":[[0.0,\"#0d0887\"],[0.1111111111111111,\"#46039f\"],[0.2222222222222222,\"#7201a8\"],[0.3333333333333333,\"#9c179e\"],[0.4444444444444444,\"#bd3786\"],[0.5555555555555556,\"#d8576b\"],[0.6666666666666666,\"#ed7953\"],[0.7777777777777778,\"#fb9f3a\"],[0.8888888888888888,\"#fdca26\"],[1.0,\"#f0f921\"]]}],\"contourcarpet\":[{\"type\":\"contourcarpet\",\"colorbar\":{\"outlinewidth\":0,\"ticks\":\"\"}}],\"contour\":[{\"type\":\"contour\",\"colorbar\":{\"outlinewidth\":0,\"ticks\":\"\"},\"colorscale\":[[0.0,\"#0d0887\"],[0.1111111111111111,\"#46039f\"],[0.2222222222222222,\"#7201a8\"],[0.3333333333333333,\"#9c179e\"],[0.4444444444444444,\"#bd3786\"],[0.5555555555555556,\"#d8576b\"],[0.6666666666666666,\"#ed7953\"],[0.7777777777777778,\"#fb9f3a\"],[0.8888888888888888,\"#fdca26\"],[1.0,\"#f0f921\"]]}],\"surface\":[{\"type\":\"surface\",\"colorbar\":{\"outlinewidth\":0,\"ticks\":\"\"},\"colorscale\":[[0.0,\"#0d0887\"],[0.1111111111111111,\"#46039f\"],[0.2222222222222222,\"#7201a8\"],[0.3333333333333333,\"#9c179e\"],[0.4444444444444444,\"#bd3786\"],[0.5555555555555556,\"#d8576b\"],[0.6666666666666666,\"#ed7953\"],[0.7777777777777778,\"#fb9f3a\"],[0.8888888888888888,\"#fdca26\"],[1.0,\"#f0f921\"]]}],\"mesh3d\":[{\"type\":\"mesh3d\",\"colorbar\":{\"outlinewidth\":0,\"ticks\":\"\"}}],\"scatter\":[{\"fillpattern\":{\"fillmode\":\"overlay\",\"size\":10,\"solidity\":0.2},\"type\":\"scatter\"}],\"parcoords\":[{\"type\":\"parcoords\",\"line\":{\"colorbar\":{\"outlinewidth\":0,\"ticks\":\"\"}}}],\"scatterpolargl\":[{\"type\":\"scatterpolargl\",\"marker\":{\"colorbar\":{\"outlinewidth\":0,\"ticks\":\"\"}}}],\"bar\":[{\"error_x\":{\"color\":\"#2a3f5f\"},\"error_y\":{\"color\":\"#2a3f5f\"},\"marker\":{\"line\":{\"color\":\"#E5ECF6\",\"width\":0.5},\"pattern\":{\"fillmode\":\"overlay\",\"size\":10,\"solidity\":0.2}},\"type\":\"bar\"}],\"scattergeo\":[{\"type\":\"scattergeo\",\"marker\":{\"colorbar\":{\"outlinewidth\":0,\"ticks\":\"\"}}}],\"scatterpolar\":[{\"type\":\"scatterpolar\",\"marker\":{\"colorbar\":{\"outlinewidth\":0,\"ticks\":\"\"}}}],\"histogram\":[{\"marker\":{\"pattern\":{\"fillmode\":\"overlay\",\"size\":10,\"solidity\":0.2}},\"type\":\"histogram\"}],\"scattergl\":[{\"type\":\"scattergl\",\"marker\":{\"colorbar\":{\"outlinewidth\":0,\"ticks\":\"\"}}}],\"scatter3d\":[{\"type\":\"scatter3d\",\"line\":{\"colorbar\":{\"outlinewidth\":0,\"ticks\":\"\"}},\"marker\":{\"colorbar\":{\"outlinewidth\":0,\"ticks\":\"\"}}}],\"scattermapbox\":[{\"type\":\"scattermapbox\",\"marker\":{\"colorbar\":{\"outlinewidth\":0,\"ticks\":\"\"}}}],\"scatterternary\":[{\"type\":\"scatterternary\",\"marker\":{\"colorbar\":{\"outlinewidth\":0,\"ticks\":\"\"}}}],\"scattercarpet\":[{\"type\":\"scattercarpet\",\"marker\":{\"colorbar\":{\"outlinewidth\":0,\"ticks\":\"\"}}}],\"carpet\":[{\"aaxis\":{\"endlinecolor\":\"#2a3f5f\",\"gridcolor\":\"white\",\"linecolor\":\"white\",\"minorgridcolor\":\"white\",\"startlinecolor\":\"#2a3f5f\"},\"baxis\":{\"endlinecolor\":\"#2a3f5f\",\"gridcolor\":\"white\",\"linecolor\":\"white\",\"minorgridcolor\":\"white\",\"startlinecolor\":\"#2a3f5f\"},\"type\":\"carpet\"}],\"table\":[{\"cells\":{\"fill\":{\"color\":\"#EBF0F8\"},\"line\":{\"color\":\"white\"}},\"header\":{\"fill\":{\"color\":\"#C8D4E3\"},\"line\":{\"color\":\"white\"}},\"type\":\"table\"}],\"barpolar\":[{\"marker\":{\"line\":{\"color\":\"#E5ECF6\",\"width\":0.5},\"pattern\":{\"fillmode\":\"overlay\",\"size\":10,\"solidity\":0.2}},\"type\":\"barpolar\"}],\"pie\":[{\"automargin\":true,\"type\":\"pie\"}]},\"layout\":{\"autotypenumbers\":\"strict\",\"colorway\":[\"#636efa\",\"#EF553B\",\"#00cc96\",\"#ab63fa\",\"#FFA15A\",\"#19d3f3\",\"#FF6692\",\"#B6E880\",\"#FF97FF\",\"#FECB52\"],\"font\":{\"color\":\"#2a3f5f\"},\"hovermode\":\"closest\",\"hoverlabel\":{\"align\":\"left\"},\"paper_bgcolor\":\"white\",\"plot_bgcolor\":\"#E5ECF6\",\"polar\":{\"bgcolor\":\"#E5ECF6\",\"angularaxis\":{\"gridcolor\":\"white\",\"linecolor\":\"white\",\"ticks\":\"\"},\"radialaxis\":{\"gridcolor\":\"white\",\"linecolor\":\"white\",\"ticks\":\"\"}},\"ternary\":{\"bgcolor\":\"#E5ECF6\",\"aaxis\":{\"gridcolor\":\"white\",\"linecolor\":\"white\",\"ticks\":\"\"},\"baxis\":{\"gridcolor\":\"white\",\"linecolor\":\"white\",\"ticks\":\"\"},\"caxis\":{\"gridcolor\":\"white\",\"linecolor\":\"white\",\"ticks\":\"\"}},\"coloraxis\":{\"colorbar\":{\"outlinewidth\":0,\"ticks\":\"\"}},\"colorscale\":{\"sequential\":[[0.0,\"#0d0887\"],[0.1111111111111111,\"#46039f\"],[0.2222222222222222,\"#7201a8\"],[0.3333333333333333,\"#9c179e\"],[0.4444444444444444,\"#bd3786\"],[0.5555555555555556,\"#d8576b\"],[0.6666666666666666,\"#ed7953\"],[0.7777777777777778,\"#fb9f3a\"],[0.8888888888888888,\"#fdca26\"],[1.0,\"#f0f921\"]],\"sequentialminus\":[[0.0,\"#0d0887\"],[0.1111111111111111,\"#46039f\"],[0.2222222222222222,\"#7201a8\"],[0.3333333333333333,\"#9c179e\"],[0.4444444444444444,\"#bd3786\"],[0.5555555555555556,\"#d8576b\"],[0.6666666666666666,\"#ed7953\"],[0.7777777777777778,\"#fb9f3a\"],[0.8888888888888888,\"#fdca26\"],[1.0,\"#f0f921\"]],\"diverging\":[[0,\"#8e0152\"],[0.1,\"#c51b7d\"],[0.2,\"#de77ae\"],[0.3,\"#f1b6da\"],[0.4,\"#fde0ef\"],[0.5,\"#f7f7f7\"],[0.6,\"#e6f5d0\"],[0.7,\"#b8e186\"],[0.8,\"#7fbc41\"],[0.9,\"#4d9221\"],[1,\"#276419\"]]},\"xaxis\":{\"gridcolor\":\"white\",\"linecolor\":\"white\",\"ticks\":\"\",\"title\":{\"standoff\":15},\"zerolinecolor\":\"white\",\"automargin\":true,\"zerolinewidth\":2},\"yaxis\":{\"gridcolor\":\"white\",\"linecolor\":\"white\",\"ticks\":\"\",\"title\":{\"standoff\":15},\"zerolinecolor\":\"white\",\"automargin\":true,\"zerolinewidth\":2},\"scene\":{\"xaxis\":{\"backgroundcolor\":\"#E5ECF6\",\"gridcolor\":\"white\",\"linecolor\":\"white\",\"showbackground\":true,\"ticks\":\"\",\"zerolinecolor\":\"white\",\"gridwidth\":2},\"yaxis\":{\"backgroundcolor\":\"#E5ECF6\",\"gridcolor\":\"white\",\"linecolor\":\"white\",\"showbackground\":true,\"ticks\":\"\",\"zerolinecolor\":\"white\",\"gridwidth\":2},\"zaxis\":{\"backgroundcolor\":\"#E5ECF6\",\"gridcolor\":\"white\",\"linecolor\":\"white\",\"showbackground\":true,\"ticks\":\"\",\"zerolinecolor\":\"white\",\"gridwidth\":2}},\"shapedefaults\":{\"line\":{\"color\":\"#2a3f5f\"}},\"annotationdefaults\":{\"arrowcolor\":\"#2a3f5f\",\"arrowhead\":0,\"arrowwidth\":1},\"geo\":{\"bgcolor\":\"white\",\"landcolor\":\"#E5ECF6\",\"subunitcolor\":\"white\",\"showland\":true,\"showlakes\":true,\"lakecolor\":\"white\"},\"title\":{\"x\":0.05},\"mapbox\":{\"style\":\"light\"}}},\"title\":{\"text\":\"Evolu\\u00e7\\u00e3o das Unidades por Ano\"},\"xaxis\":{\"title\":{\"text\":\"Unidades\"}},\"yaxis\":{\"title\":{\"text\":\"Quantidade\"}},\"barmode\":\"stack\"},                        {\"responsive\": true}                    ).then(function(){\n",
       "                            \n",
       "var gd = document.getElementById('67a452ff-4b94-42b1-863c-5e86ce928d06');\n",
       "var x = new MutationObserver(function (mutations, observer) {{\n",
       "        var display = window.getComputedStyle(gd).display;\n",
       "        if (!display || display === 'none') {{\n",
       "            console.log([gd, 'removed!']);\n",
       "            Plotly.purge(gd);\n",
       "            observer.disconnect();\n",
       "        }}\n",
       "}});\n",
       "\n",
       "// Listen for the removal of the full notebook cells\n",
       "var notebookContainer = gd.closest('#notebook-container');\n",
       "if (notebookContainer) {{\n",
       "    x.observe(notebookContainer, {childList: true});\n",
       "}}\n",
       "\n",
       "// Listen for the clearing of the current output cell\n",
       "var outputEl = gd.closest('.output');\n",
       "if (outputEl) {{\n",
       "    x.observe(outputEl, {childList: true});\n",
       "}}\n",
       "\n",
       "                        })                };                });            </script>        </div>"
      ]
     },
     "metadata": {},
     "output_type": "display_data"
    }
   ],
   "source": [
    "import plotly.graph_objects as go\n",
    "\n",
    "# Dados de cada ano\n",
    "anos = list(data.keys())[1:]\n",
    "unidades = data['Unidades']\n",
    "\n",
    "# Criar o gráfico de barras empilhadas\n",
    "fig = go.Figure()\n",
    "\n",
    "for ano in anos:\n",
    "    fig.add_trace(go.Bar(x=unidades, y=data[ano], name=str(ano)))\n",
    "\n",
    "# Personalizar o layout do gráfico\n",
    "fig.update_layout(\n",
    "    title='Evolução das Unidades por Ano',\n",
    "    xaxis_title='Unidades',\n",
    "    yaxis_title='Quantidade',\n",
    "    barmode='stack',  # Barras empilhadas\n",
    ")\n",
    "\n",
    "# Exibir o gráfico\n",
    "fig.show()"
   ]
  },
  {
   "cell_type": "code",
   "execution_count": 109,
   "id": "f7d0e55e",
   "metadata": {},
   "outputs": [
    {
     "ename": "RuntimeError",
     "evalue": "module compiled against API version 0xf but this version of numpy is 0xe",
     "output_type": "error",
     "traceback": [
      "\u001b[1;31m---------------------------------------------------------------------------\u001b[0m",
      "\u001b[1;31mRuntimeError\u001b[0m                              Traceback (most recent call last)",
      "\u001b[1;31mRuntimeError\u001b[0m: module compiled against API version 0xf but this version of numpy is 0xe"
     ]
    },
    {
     "ename": "RuntimeError",
     "evalue": "module compiled against API version 0xf but this version of numpy is 0xe",
     "output_type": "error",
     "traceback": [
      "\u001b[1;31m---------------------------------------------------------------------------\u001b[0m",
      "\u001b[1;31mRuntimeError\u001b[0m                              Traceback (most recent call last)",
      "\u001b[1;31mRuntimeError\u001b[0m: module compiled against API version 0xf but this version of numpy is 0xe"
     ]
    },
    {
     "ename": "ImportError",
     "evalue": "numpy.core._multiarray_umath failed to import",
     "output_type": "error",
     "traceback": [
      "\u001b[1;31m---------------------------------------------------------------------------\u001b[0m",
      "\u001b[1;31mImportError\u001b[0m                               Traceback (most recent call last)",
      "\u001b[1;31mImportError\u001b[0m: numpy.core._multiarray_umath failed to import"
     ]
    },
    {
     "ename": "ImportError",
     "evalue": "numpy.core.umath failed to import",
     "output_type": "error",
     "traceback": [
      "\u001b[1;31m---------------------------------------------------------------------------\u001b[0m",
      "\u001b[1;31mImportError\u001b[0m                               Traceback (most recent call last)",
      "\u001b[1;31mImportError\u001b[0m: numpy.core.umath failed to import"
     ]
    },
    {
     "ename": "RuntimeError",
     "evalue": "module compiled against API version 0xf but this version of numpy is 0xe",
     "output_type": "error",
     "traceback": [
      "\u001b[1;31m---------------------------------------------------------------------------\u001b[0m",
      "\u001b[1;31mRuntimeError\u001b[0m                              Traceback (most recent call last)",
      "\u001b[1;31mRuntimeError\u001b[0m: module compiled against API version 0xf but this version of numpy is 0xe"
     ]
    },
    {
     "ename": "ImportError",
     "evalue": "numpy.core._multiarray_umath failed to import",
     "output_type": "error",
     "traceback": [
      "\u001b[1;31m---------------------------------------------------------------------------\u001b[0m",
      "\u001b[1;31mImportError\u001b[0m                               Traceback (most recent call last)",
      "\u001b[1;31mImportError\u001b[0m: numpy.core._multiarray_umath failed to import"
     ]
    },
    {
     "ename": "ImportError",
     "evalue": "numpy.core.umath failed to import",
     "output_type": "error",
     "traceback": [
      "\u001b[1;31m---------------------------------------------------------------------------\u001b[0m",
      "\u001b[1;31mImportError\u001b[0m                               Traceback (most recent call last)",
      "\u001b[1;31mImportError\u001b[0m: numpy.core.umath failed to import"
     ]
    },
    {
     "ename": "RuntimeError",
     "evalue": "module compiled against API version 0xf but this version of numpy is 0xe",
     "output_type": "error",
     "traceback": [
      "\u001b[1;31m---------------------------------------------------------------------------\u001b[0m",
      "\u001b[1;31mRuntimeError\u001b[0m                              Traceback (most recent call last)",
      "\u001b[1;31mRuntimeError\u001b[0m: module compiled against API version 0xf but this version of numpy is 0xe"
     ]
    },
    {
     "ename": "ImportError",
     "evalue": "numpy.core._multiarray_umath failed to import",
     "output_type": "error",
     "traceback": [
      "\u001b[1;31m---------------------------------------------------------------------------\u001b[0m",
      "\u001b[1;31mImportError\u001b[0m                               Traceback (most recent call last)",
      "\u001b[1;31mImportError\u001b[0m: numpy.core._multiarray_umath failed to import"
     ]
    },
    {
     "ename": "ImportError",
     "evalue": "numpy.core.umath failed to import",
     "output_type": "error",
     "traceback": [
      "\u001b[1;31m---------------------------------------------------------------------------\u001b[0m",
      "\u001b[1;31mImportError\u001b[0m                               Traceback (most recent call last)",
      "\u001b[1;31mImportError\u001b[0m: numpy.core.umath failed to import"
     ]
    },
    {
     "ename": "TypeError",
     "evalue": "Unable to convert function return value to a Python type! The signature was\n\t() -> handle",
     "output_type": "error",
     "traceback": [
      "\u001b[1;31m---------------------------------------------------------------------------\u001b[0m",
      "\u001b[1;31mTypeError\u001b[0m                                 Traceback (most recent call last)",
      "\u001b[1;32m~\\AppData\\Local\\Temp\\ipykernel_11344\\748054651.py\u001b[0m in \u001b[0;36m<module>\u001b[1;34m\u001b[0m\n\u001b[1;32m----> 1\u001b[1;33m \u001b[1;32mimport\u001b[0m \u001b[0mtensorflow\u001b[0m \u001b[1;32mas\u001b[0m \u001b[0mtf\u001b[0m\u001b[1;33m\u001b[0m\u001b[1;33m\u001b[0m\u001b[0m\n\u001b[0m\u001b[0;32m      2\u001b[0m \u001b[1;32mimport\u001b[0m \u001b[0mnumpy\u001b[0m \u001b[1;32mas\u001b[0m \u001b[0mnp\u001b[0m\u001b[1;33m\u001b[0m\u001b[1;33m\u001b[0m\u001b[0m\n\u001b[0;32m      3\u001b[0m \u001b[1;33m\u001b[0m\u001b[0m\n\u001b[0;32m      4\u001b[0m \u001b[1;31m# Preparando os dados de entrada (anos anteriores) e saídas (2023)\u001b[0m\u001b[1;33m\u001b[0m\u001b[1;33m\u001b[0m\u001b[0m\n\u001b[0;32m      5\u001b[0m \u001b[0myears\u001b[0m \u001b[1;33m=\u001b[0m \u001b[1;33m[\u001b[0m\u001b[1;36m2017\u001b[0m\u001b[1;33m,\u001b[0m \u001b[1;36m2018\u001b[0m\u001b[1;33m,\u001b[0m \u001b[1;36m2019\u001b[0m\u001b[1;33m,\u001b[0m \u001b[1;36m2020\u001b[0m\u001b[1;33m,\u001b[0m \u001b[1;36m2021\u001b[0m\u001b[1;33m]\u001b[0m\u001b[1;33m\u001b[0m\u001b[1;33m\u001b[0m\u001b[0m\n",
      "\u001b[1;32m~\\AppData\\Roaming\\Python\\Python39\\site-packages\\tensorflow\\__init__.py\u001b[0m in \u001b[0;36m<module>\u001b[1;34m\u001b[0m\n\u001b[0;32m     36\u001b[0m \u001b[1;32mimport\u001b[0m \u001b[0mtyping\u001b[0m \u001b[1;32mas\u001b[0m \u001b[0m_typing\u001b[0m\u001b[1;33m\u001b[0m\u001b[1;33m\u001b[0m\u001b[0m\n\u001b[0;32m     37\u001b[0m \u001b[1;33m\u001b[0m\u001b[0m\n\u001b[1;32m---> 38\u001b[1;33m \u001b[1;32mfrom\u001b[0m \u001b[0mtensorflow\u001b[0m\u001b[1;33m.\u001b[0m\u001b[0mpython\u001b[0m\u001b[1;33m.\u001b[0m\u001b[0mtools\u001b[0m \u001b[1;32mimport\u001b[0m \u001b[0mmodule_util\u001b[0m \u001b[1;32mas\u001b[0m \u001b[0m_module_util\u001b[0m\u001b[1;33m\u001b[0m\u001b[1;33m\u001b[0m\u001b[0m\n\u001b[0m\u001b[0;32m     39\u001b[0m \u001b[1;32mfrom\u001b[0m \u001b[0mtensorflow\u001b[0m\u001b[1;33m.\u001b[0m\u001b[0mpython\u001b[0m\u001b[1;33m.\u001b[0m\u001b[0mutil\u001b[0m\u001b[1;33m.\u001b[0m\u001b[0mlazy_loader\u001b[0m \u001b[1;32mimport\u001b[0m \u001b[0mLazyLoader\u001b[0m \u001b[1;32mas\u001b[0m \u001b[0m_LazyLoader\u001b[0m\u001b[1;33m\u001b[0m\u001b[1;33m\u001b[0m\u001b[0m\n\u001b[0;32m     40\u001b[0m \u001b[1;33m\u001b[0m\u001b[0m\n",
      "\u001b[1;32m~\\AppData\\Roaming\\Python\\Python39\\site-packages\\tensorflow\\python\\__init__.py\u001b[0m in \u001b[0;36m<module>\u001b[1;34m\u001b[0m\n\u001b[0;32m     35\u001b[0m \u001b[1;33m\u001b[0m\u001b[0m\n\u001b[0;32m     36\u001b[0m \u001b[1;32mfrom\u001b[0m \u001b[0mtensorflow\u001b[0m\u001b[1;33m.\u001b[0m\u001b[0mpython\u001b[0m \u001b[1;32mimport\u001b[0m \u001b[0mpywrap_tensorflow\u001b[0m \u001b[1;32mas\u001b[0m \u001b[0m_pywrap_tensorflow\u001b[0m\u001b[1;33m\u001b[0m\u001b[1;33m\u001b[0m\u001b[0m\n\u001b[1;32m---> 37\u001b[1;33m \u001b[1;32mfrom\u001b[0m \u001b[0mtensorflow\u001b[0m\u001b[1;33m.\u001b[0m\u001b[0mpython\u001b[0m\u001b[1;33m.\u001b[0m\u001b[0meager\u001b[0m \u001b[1;32mimport\u001b[0m \u001b[0mcontext\u001b[0m\u001b[1;33m\u001b[0m\u001b[1;33m\u001b[0m\u001b[0m\n\u001b[0m\u001b[0;32m     38\u001b[0m \u001b[1;33m\u001b[0m\u001b[0m\n\u001b[0;32m     39\u001b[0m \u001b[1;31m# pylint: enable=wildcard-import\u001b[0m\u001b[1;33m\u001b[0m\u001b[1;33m\u001b[0m\u001b[0m\n",
      "\u001b[1;32m~\\AppData\\Roaming\\Python\\Python39\\site-packages\\tensorflow\\python\\eager\\context.py\u001b[0m in \u001b[0;36m<module>\u001b[1;34m\u001b[0m\n\u001b[0;32m     34\u001b[0m \u001b[1;32mfrom\u001b[0m \u001b[0mtensorflow\u001b[0m\u001b[1;33m.\u001b[0m\u001b[0mpython\u001b[0m\u001b[1;33m.\u001b[0m\u001b[0mclient\u001b[0m \u001b[1;32mimport\u001b[0m \u001b[0mpywrap_tf_session\u001b[0m\u001b[1;33m\u001b[0m\u001b[1;33m\u001b[0m\u001b[0m\n\u001b[0;32m     35\u001b[0m \u001b[1;32mfrom\u001b[0m \u001b[0mtensorflow\u001b[0m\u001b[1;33m.\u001b[0m\u001b[0mpython\u001b[0m\u001b[1;33m.\u001b[0m\u001b[0meager\u001b[0m \u001b[1;32mimport\u001b[0m \u001b[0mcancellation\u001b[0m\u001b[1;33m\u001b[0m\u001b[1;33m\u001b[0m\u001b[0m\n\u001b[1;32m---> 36\u001b[1;33m \u001b[1;32mfrom\u001b[0m \u001b[0mtensorflow\u001b[0m\u001b[1;33m.\u001b[0m\u001b[0mpython\u001b[0m\u001b[1;33m.\u001b[0m\u001b[0meager\u001b[0m \u001b[1;32mimport\u001b[0m \u001b[0mexecute\u001b[0m\u001b[1;33m\u001b[0m\u001b[1;33m\u001b[0m\u001b[0m\n\u001b[0m\u001b[0;32m     37\u001b[0m \u001b[1;32mfrom\u001b[0m \u001b[0mtensorflow\u001b[0m\u001b[1;33m.\u001b[0m\u001b[0mpython\u001b[0m\u001b[1;33m.\u001b[0m\u001b[0meager\u001b[0m \u001b[1;32mimport\u001b[0m \u001b[0mexecutor\u001b[0m\u001b[1;33m\u001b[0m\u001b[1;33m\u001b[0m\u001b[0m\n\u001b[0;32m     38\u001b[0m \u001b[1;32mfrom\u001b[0m \u001b[0mtensorflow\u001b[0m\u001b[1;33m.\u001b[0m\u001b[0mpython\u001b[0m\u001b[1;33m.\u001b[0m\u001b[0meager\u001b[0m \u001b[1;32mimport\u001b[0m \u001b[0mmonitoring\u001b[0m\u001b[1;33m\u001b[0m\u001b[1;33m\u001b[0m\u001b[0m\n",
      "\u001b[1;32m~\\AppData\\Roaming\\Python\\Python39\\site-packages\\tensorflow\\python\\eager\\execute.py\u001b[0m in \u001b[0;36m<module>\u001b[1;34m\u001b[0m\n\u001b[0;32m     19\u001b[0m \u001b[1;32mfrom\u001b[0m \u001b[0mtensorflow\u001b[0m\u001b[1;33m.\u001b[0m\u001b[0mpython\u001b[0m \u001b[1;32mimport\u001b[0m \u001b[0mpywrap_tfe\u001b[0m\u001b[1;33m\u001b[0m\u001b[1;33m\u001b[0m\u001b[0m\n\u001b[0;32m     20\u001b[0m \u001b[1;32mfrom\u001b[0m \u001b[0mtensorflow\u001b[0m\u001b[1;33m.\u001b[0m\u001b[0mpython\u001b[0m\u001b[1;33m.\u001b[0m\u001b[0meager\u001b[0m \u001b[1;32mimport\u001b[0m \u001b[0mcore\u001b[0m\u001b[1;33m\u001b[0m\u001b[1;33m\u001b[0m\u001b[0m\n\u001b[1;32m---> 21\u001b[1;33m \u001b[1;32mfrom\u001b[0m \u001b[0mtensorflow\u001b[0m\u001b[1;33m.\u001b[0m\u001b[0mpython\u001b[0m\u001b[1;33m.\u001b[0m\u001b[0mframework\u001b[0m \u001b[1;32mimport\u001b[0m \u001b[0mdtypes\u001b[0m\u001b[1;33m\u001b[0m\u001b[1;33m\u001b[0m\u001b[0m\n\u001b[0m\u001b[0;32m     22\u001b[0m \u001b[1;32mfrom\u001b[0m \u001b[0mtensorflow\u001b[0m\u001b[1;33m.\u001b[0m\u001b[0mpython\u001b[0m\u001b[1;33m.\u001b[0m\u001b[0mframework\u001b[0m \u001b[1;32mimport\u001b[0m \u001b[0mtensor_conversion_registry\u001b[0m\u001b[1;33m\u001b[0m\u001b[1;33m\u001b[0m\u001b[0m\n\u001b[0;32m     23\u001b[0m \u001b[1;32mfrom\u001b[0m \u001b[0mtensorflow\u001b[0m\u001b[1;33m.\u001b[0m\u001b[0mpython\u001b[0m\u001b[1;33m.\u001b[0m\u001b[0mframework\u001b[0m \u001b[1;32mimport\u001b[0m \u001b[0mtensor_shape\u001b[0m\u001b[1;33m\u001b[0m\u001b[1;33m\u001b[0m\u001b[0m\n",
      "\u001b[1;32m~\\AppData\\Roaming\\Python\\Python39\\site-packages\\tensorflow\\python\\framework\\dtypes.py\u001b[0m in \u001b[0;36m<module>\u001b[1;34m\u001b[0m\n\u001b[0;32m     36\u001b[0m \u001b[1;32mfrom\u001b[0m \u001b[0mtensorflow\u001b[0m\u001b[1;33m.\u001b[0m\u001b[0mpython\u001b[0m\u001b[1;33m.\u001b[0m\u001b[0mframework\u001b[0m \u001b[1;32mimport\u001b[0m \u001b[0mcpp_shape_inference_pb2\u001b[0m\u001b[1;33m\u001b[0m\u001b[1;33m\u001b[0m\u001b[0m\n\u001b[0;32m     37\u001b[0m \u001b[1;33m\u001b[0m\u001b[0m\n\u001b[1;32m---> 38\u001b[1;33m \u001b[0m_np_bfloat16\u001b[0m \u001b[1;33m=\u001b[0m \u001b[0mpywrap_bfloat16\u001b[0m\u001b[1;33m.\u001b[0m\u001b[0mbfloat16_type\u001b[0m\u001b[1;33m(\u001b[0m\u001b[1;33m)\u001b[0m\u001b[1;33m\u001b[0m\u001b[1;33m\u001b[0m\u001b[0m\n\u001b[0m\u001b[0;32m     39\u001b[0m \u001b[0m_np_float8_e4m3fn\u001b[0m \u001b[1;33m=\u001b[0m \u001b[0m_pywrap_float8\u001b[0m\u001b[1;33m.\u001b[0m\u001b[0mTF_float8_e4m3fn_type\u001b[0m\u001b[1;33m(\u001b[0m\u001b[1;33m)\u001b[0m\u001b[1;33m\u001b[0m\u001b[1;33m\u001b[0m\u001b[0m\n\u001b[0;32m     40\u001b[0m \u001b[0m_np_float8_e5m2\u001b[0m \u001b[1;33m=\u001b[0m \u001b[0m_pywrap_float8\u001b[0m\u001b[1;33m.\u001b[0m\u001b[0mTF_float8_e5m2_type\u001b[0m\u001b[1;33m(\u001b[0m\u001b[1;33m)\u001b[0m\u001b[1;33m\u001b[0m\u001b[1;33m\u001b[0m\u001b[0m\n",
      "\u001b[1;31mTypeError\u001b[0m: Unable to convert function return value to a Python type! The signature was\n\t() -> handle"
     ]
    }
   ],
   "source": [
    "import tensorflow as tf\n",
    "import numpy as np\n",
    "\n",
    "# Preparando os dados de entrada (anos anteriores) e saídas (2023)\n",
    "years = [2017, 2018, 2019, 2020, 2021]\n",
    "X_train = np.array([data[year] for year in years]).T\n",
    "y_train = np.array(data[2022])\n",
    "\n",
    "# Normalizando os dados para melhorar o treinamento\n",
    "X_train = (X_train - np.mean(X_train, axis=0)) / np.std(X_train, axis=0)\n",
    "\n",
    "# Criando o modelo de regressão linear\n",
    "model = tf.keras.models.Sequential([\n",
    "    tf.keras.layers.Dense(units=1, input_shape=(len(years),))\n",
    "])\n",
    "\n",
    "# Compilando o modelo\n",
    "model.compile(optimizer='adam', loss='mean_squared_error')\n",
    "\n",
    "# Treinando o modelo\n",
    "model.fit(X_train, y_train, epochs=1000, verbose=0)\n",
    "\n",
    "# Preparando os dados de entrada para fazer a previsão para 2023\n",
    "X_test = np.array([data[year] for year in years]).T\n",
    "X_test = (X_test - np.mean(X_train, axis=0)) / np.std(X_train, axis=0)\n",
    "\n",
    "# Fazendo a previsão para 2023\n",
    "y_pred = model.predict(X_test)\n",
    "\n",
    "# Exibindo as estimativas de matrículas para 2023 de cada unidade\n",
    "for unidade, matriculas in zip(data['Unidades'], y_pred.flatten()):\n",
    "    print(f'{unidade}: {int(matriculas)}')"
   ]
  },
  {
   "cell_type": "code",
   "execution_count": null,
   "id": "8a885fbb",
   "metadata": {},
   "outputs": [],
   "source": []
  }
 ],
 "metadata": {
  "kernelspec": {
   "display_name": "Python 3 (ipykernel)",
   "language": "python",
   "name": "python3"
  },
  "language_info": {
   "codemirror_mode": {
    "name": "ipython",
    "version": 3
   },
   "file_extension": ".py",
   "mimetype": "text/x-python",
   "name": "python",
   "nbconvert_exporter": "python",
   "pygments_lexer": "ipython3",
   "version": "3.9.13"
  }
 },
 "nbformat": 4,
 "nbformat_minor": 5
}
